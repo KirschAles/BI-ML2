{
 "cells": [
  {
   "cell_type": "markdown",
   "metadata": {},
   "source": [
    "# Úkol č. 2 - Využití neuronových sítí\n",
    "\n",
    "  * **Deadline je do 18. 5. 2023, 23:59:59**, pokud odevzdáte úkol do 24. 5. 2023, 23:59:59, budete penalizování -12 body, pozdější odevzdání je bez bodu.\n",
    "  * V rámci tohoto úkolu musíte sestrojit vhodný model neuronové sítě pro vícetřídou klasifikaci.\n",
    "  * Část bodů získáte za správné vypracování a část bodů získáte za výslednou přesnost Vašeho modelu na evaluačních datech.\n",
    "    \n",
    "> **Úkoly jsou zadány tak, aby Vám daly prostor pro invenci. Vymyslet _jak přesně_ budete úkol řešit, je důležitou součástí zadání a originalita či nápaditost bude také hodnocena!**\n",
    "\n",
    "Využívejte buňky typu `Markdown` k vysvětlování Vašeho postupu. Za nepřehlednost budou strhávány body.\n",
    "\n",
    "## Zdroj dat\n",
    "\n",
    " * Zdrojem dat jsou soubory `train.csv` a `evaluate.csv`.\n",
    " * Jedná se o obrázky 32x32 pixelů ve stupních šedi, které byly nějakým způsobem vyrobeny z [Fashion Mnist datasetu](https://www.kaggle.com/datasets/zalando-research/fashionmnist).\n",
    " * Soubor `train.csv` obsahuje trénovací data.\n",
    " * Cílová (vysvětlovaná) proměnná se jmenuje **label**.\n",
    " * Soubor `evaluate.csv` obsahuje testovací data bez hodnot skutečných labelů.\n",
    "\n",
    "## Pokyny k vypracování (max 18 bodů)\n",
    "\n",
    "**Body zadání**, za jejichž (poctivé) vypracování získáte **18 bodů**:\n",
    "  * V notebooku načtěte data ze souboru `train.csv`. Vhodným způsobem si je rozdělte na podmnožiny, které Vám poslouží pro trénování, porovnávání modelů a následnou predikci výkonnosti finálního modelu.\n",
    "  * Proveďte základní průzkum dat a svá pozorování diskutujte. Některé obrázky také zobrazte.\n",
    "  * Sestrojte a natrénujte několik variant modelu dopředné neuronové sítě. Přitom v rámci výpočetních možností:\n",
    "      * Okomentujte vhodnost daného modelu pro daný typ úlohy.\n",
    "      * Experimentujte s různými hloubkami a velikosmi vrstev.\n",
    "      * Experimentujte se standardizací/normalizací dat.\n",
    "      * Experimentujte s různými optimalizačními metodami.\n",
    "      * Experimentujte s různými regularizačními technikami.\n",
    "      * Získané výsledky vždy řádně okomentujte.\n",
    "\n",
    "  * Sestrojte model konvoluční neuronové sítě. Přitom v rámci výpočetních možností:\n",
    "      * Okomentujte vhodnost daného modelu pro daný typ úlohy.\n",
    "      * Experimentujte s různými hloubkami a velikosmi vrstev.\n",
    "      * Experimentujte se standardizací/normalizací dat.\n",
    "      * Experimentujte s různými optimalizačními metodami.\n",
    "      * Experimentujte s různými regularizačními technikami.\n",
    "      * Získané výsledky vždy řádně okomentujte.\n",
    "    \n",
    "  * Ze všech zkoušených možností vyberte finální model a odhadněte, jakou přesnost můžete očekávat na nových datech, která jste doposud neměli k dispozici.\n",
    "  \n",
    "  * Nakonec načtěte vyhodnocovací data ze souboru`evaluate.csv`. Pomocí finálního modelu napočítejte predikce pro tyto data (vysvětlovaná proměnná v nich již není). Vytvořte soubor `results.csv`, ve kterém získané predikce uložíte do dvou sloupců: **ID**, **predikce labelu**. Tento soubor též odevzdejte (uložte do projektu vedle notebooku).\n",
    "   \n",
    "   * Ukázka prvních řádků souboru `results.csv`:\n",
    "  \n",
    "```\n",
    "ID,label\n",
    "0,0\n",
    "1,1\n",
    "...\n",
    "```\n",
    "\n",
    "## Vyhodnocovací část (max 7 bodů)\n",
    "Za přesnost (accuraccy) na odevzdaných predikcích pro vyhodnocovací množnu získáte dalších max **7 bodů**.\n",
    "\n",
    "Označíme-li $A$ přesnost, které jste dosáhli, zaokrouhlenou na 2 desetinná místa, akumulují se výsledné body podle následujících pravidel:\n",
    "* pokud $A \\geq 0.80$ obdržíte +1 bod\n",
    "* pokud $A \\geq 0.83$ obdržíte +1 bod\n",
    "* pokud $A \\geq 0.86$ obdržíte +1 bod\n",
    "* pokud $A \\geq 0.87$ obdržíte +1 bod\n",
    "* pokud $A \\geq 0.88$ obdržíte +1 bod\n",
    "* pokud $A \\geq 0.89$ obdržíte +1 bod\n",
    "* pokud $A \\geq 0.90$ obdržíte +1 bod\n",
    "\n",
    "**Příklad:** Pokud bude Vaše přesnost 0.856, vyjde A = 0.86 a vy získáte 3 body.\n",
    "\n",
    "\n",
    "## Poznámky k odevzdání\n",
    "\n",
    "  * Řiďte se pokyny ze stránky https://courses.fit.cvut.cz/BI-ML2/homeworks/index.html.\n",
    "  * Vytvořte i csv soubor `results.csv` s predikcemi a uložte ho v rámci projektu vedle ipython notebooku."
   ]
  },
  {
   "cell_type": "code",
   "execution_count": 1,
   "metadata": {},
   "outputs": [],
   "source": [
    "import pandas as pd\n",
    "import numpy as np\n",
    "import matplotlib.pyplot as plt\n",
    "import torch\n",
    "from torch.utils.data import DataLoader"
   ]
  },
  {
   "cell_type": "markdown",
   "metadata": {},
   "source": [
    "Nejdříve si načtu data"
   ]
  },
  {
   "cell_type": "code",
   "execution_count": 2,
   "metadata": {},
   "outputs": [],
   "source": [
    "df = pd.read_csv(\"train.csv\")"
   ]
  },
  {
   "cell_type": "markdown",
   "metadata": {},
   "source": [
    "Následně si dle zadání data rozdělím na trénovací, validační a testovací množinu. Dale již budu analyzovat pouze data trénovací."
   ]
  },
  {
   "cell_type": "code",
   "execution_count": 3,
   "metadata": {},
   "outputs": [
    {
     "data": {
      "text/html": [
       "<div>\n",
       "<style scoped>\n",
       "    .dataframe tbody tr th:only-of-type {\n",
       "        vertical-align: middle;\n",
       "    }\n",
       "\n",
       "    .dataframe tbody tr th {\n",
       "        vertical-align: top;\n",
       "    }\n",
       "\n",
       "    .dataframe thead th {\n",
       "        text-align: right;\n",
       "    }\n",
       "</style>\n",
       "<table border=\"1\" class=\"dataframe\">\n",
       "  <thead>\n",
       "    <tr style=\"text-align: right;\">\n",
       "      <th></th>\n",
       "      <th>pix1</th>\n",
       "      <th>pix2</th>\n",
       "      <th>pix3</th>\n",
       "      <th>pix4</th>\n",
       "      <th>pix5</th>\n",
       "      <th>pix6</th>\n",
       "      <th>pix7</th>\n",
       "      <th>pix8</th>\n",
       "      <th>pix9</th>\n",
       "      <th>pix10</th>\n",
       "      <th>...</th>\n",
       "      <th>pix1016</th>\n",
       "      <th>pix1017</th>\n",
       "      <th>pix1018</th>\n",
       "      <th>pix1019</th>\n",
       "      <th>pix1020</th>\n",
       "      <th>pix1021</th>\n",
       "      <th>pix1022</th>\n",
       "      <th>pix1023</th>\n",
       "      <th>pix1024</th>\n",
       "      <th>label</th>\n",
       "    </tr>\n",
       "  </thead>\n",
       "  <tbody>\n",
       "    <tr>\n",
       "      <th>0</th>\n",
       "      <td>1</td>\n",
       "      <td>1</td>\n",
       "      <td>1</td>\n",
       "      <td>1</td>\n",
       "      <td>1</td>\n",
       "      <td>1</td>\n",
       "      <td>1</td>\n",
       "      <td>1</td>\n",
       "      <td>1</td>\n",
       "      <td>1</td>\n",
       "      <td>...</td>\n",
       "      <td>1</td>\n",
       "      <td>1</td>\n",
       "      <td>1</td>\n",
       "      <td>1</td>\n",
       "      <td>1</td>\n",
       "      <td>1</td>\n",
       "      <td>1</td>\n",
       "      <td>1</td>\n",
       "      <td>1</td>\n",
       "      <td>7</td>\n",
       "    </tr>\n",
       "    <tr>\n",
       "      <th>1</th>\n",
       "      <td>4</td>\n",
       "      <td>4</td>\n",
       "      <td>4</td>\n",
       "      <td>4</td>\n",
       "      <td>4</td>\n",
       "      <td>4</td>\n",
       "      <td>5</td>\n",
       "      <td>5</td>\n",
       "      <td>5</td>\n",
       "      <td>6</td>\n",
       "      <td>...</td>\n",
       "      <td>4</td>\n",
       "      <td>4</td>\n",
       "      <td>4</td>\n",
       "      <td>4</td>\n",
       "      <td>4</td>\n",
       "      <td>4</td>\n",
       "      <td>4</td>\n",
       "      <td>4</td>\n",
       "      <td>4</td>\n",
       "      <td>0</td>\n",
       "    </tr>\n",
       "    <tr>\n",
       "      <th>2</th>\n",
       "      <td>0</td>\n",
       "      <td>0</td>\n",
       "      <td>0</td>\n",
       "      <td>0</td>\n",
       "      <td>0</td>\n",
       "      <td>0</td>\n",
       "      <td>0</td>\n",
       "      <td>0</td>\n",
       "      <td>0</td>\n",
       "      <td>0</td>\n",
       "      <td>...</td>\n",
       "      <td>0</td>\n",
       "      <td>0</td>\n",
       "      <td>0</td>\n",
       "      <td>0</td>\n",
       "      <td>0</td>\n",
       "      <td>0</td>\n",
       "      <td>0</td>\n",
       "      <td>0</td>\n",
       "      <td>0</td>\n",
       "      <td>6</td>\n",
       "    </tr>\n",
       "    <tr>\n",
       "      <th>3</th>\n",
       "      <td>2</td>\n",
       "      <td>2</td>\n",
       "      <td>2</td>\n",
       "      <td>2</td>\n",
       "      <td>2</td>\n",
       "      <td>2</td>\n",
       "      <td>2</td>\n",
       "      <td>2</td>\n",
       "      <td>2</td>\n",
       "      <td>2</td>\n",
       "      <td>...</td>\n",
       "      <td>2</td>\n",
       "      <td>2</td>\n",
       "      <td>2</td>\n",
       "      <td>2</td>\n",
       "      <td>2</td>\n",
       "      <td>2</td>\n",
       "      <td>2</td>\n",
       "      <td>2</td>\n",
       "      <td>2</td>\n",
       "      <td>3</td>\n",
       "    </tr>\n",
       "    <tr>\n",
       "      <th>4</th>\n",
       "      <td>0</td>\n",
       "      <td>0</td>\n",
       "      <td>0</td>\n",
       "      <td>0</td>\n",
       "      <td>0</td>\n",
       "      <td>0</td>\n",
       "      <td>0</td>\n",
       "      <td>0</td>\n",
       "      <td>0</td>\n",
       "      <td>0</td>\n",
       "      <td>...</td>\n",
       "      <td>0</td>\n",
       "      <td>0</td>\n",
       "      <td>0</td>\n",
       "      <td>0</td>\n",
       "      <td>0</td>\n",
       "      <td>0</td>\n",
       "      <td>0</td>\n",
       "      <td>0</td>\n",
       "      <td>0</td>\n",
       "      <td>3</td>\n",
       "    </tr>\n",
       "  </tbody>\n",
       "</table>\n",
       "<p>5 rows × 1025 columns</p>\n",
       "</div>"
      ],
      "text/plain": [
       "   pix1  pix2  pix3  pix4  pix5  pix6  pix7  pix8  pix9  pix10  ...  pix1016  \\\n",
       "0     1     1     1     1     1     1     1     1     1      1  ...        1   \n",
       "1     4     4     4     4     4     4     5     5     5      6  ...        4   \n",
       "2     0     0     0     0     0     0     0     0     0      0  ...        0   \n",
       "3     2     2     2     2     2     2     2     2     2      2  ...        2   \n",
       "4     0     0     0     0     0     0     0     0     0      0  ...        0   \n",
       "\n",
       "   pix1017  pix1018  pix1019  pix1020  pix1021  pix1022  pix1023  pix1024  \\\n",
       "0        1        1        1        1        1        1        1        1   \n",
       "1        4        4        4        4        4        4        4        4   \n",
       "2        0        0        0        0        0        0        0        0   \n",
       "3        2        2        2        2        2        2        2        2   \n",
       "4        0        0        0        0        0        0        0        0   \n",
       "\n",
       "   label  \n",
       "0      7  \n",
       "1      0  \n",
       "2      6  \n",
       "3      3  \n",
       "4      3  \n",
       "\n",
       "[5 rows x 1025 columns]"
      ]
     },
     "execution_count": 3,
     "metadata": {},
     "output_type": "execute_result"
    }
   ],
   "source": [
    "df.head()"
   ]
  },
  {
   "cell_type": "code",
   "execution_count": 4,
   "metadata": {},
   "outputs": [
    {
     "data": {
      "text/html": [
       "<div>\n",
       "<style scoped>\n",
       "    .dataframe tbody tr th:only-of-type {\n",
       "        vertical-align: middle;\n",
       "    }\n",
       "\n",
       "    .dataframe tbody tr th {\n",
       "        vertical-align: top;\n",
       "    }\n",
       "\n",
       "    .dataframe thead th {\n",
       "        text-align: right;\n",
       "    }\n",
       "</style>\n",
       "<table border=\"1\" class=\"dataframe\">\n",
       "  <thead>\n",
       "    <tr style=\"text-align: right;\">\n",
       "      <th></th>\n",
       "      <th>pix1</th>\n",
       "      <th>pix2</th>\n",
       "      <th>pix3</th>\n",
       "      <th>pix4</th>\n",
       "      <th>pix5</th>\n",
       "      <th>pix6</th>\n",
       "      <th>pix7</th>\n",
       "      <th>pix8</th>\n",
       "      <th>pix9</th>\n",
       "      <th>pix10</th>\n",
       "      <th>...</th>\n",
       "      <th>pix1016</th>\n",
       "      <th>pix1017</th>\n",
       "      <th>pix1018</th>\n",
       "      <th>pix1019</th>\n",
       "      <th>pix1020</th>\n",
       "      <th>pix1021</th>\n",
       "      <th>pix1022</th>\n",
       "      <th>pix1023</th>\n",
       "      <th>pix1024</th>\n",
       "      <th>label</th>\n",
       "    </tr>\n",
       "  </thead>\n",
       "  <tbody>\n",
       "    <tr>\n",
       "      <th>count</th>\n",
       "      <td>56000.000000</td>\n",
       "      <td>56000.000000</td>\n",
       "      <td>56000.000000</td>\n",
       "      <td>56000.000000</td>\n",
       "      <td>56000.000000</td>\n",
       "      <td>56000.000000</td>\n",
       "      <td>56000.000000</td>\n",
       "      <td>56000.000000</td>\n",
       "      <td>56000.000000</td>\n",
       "      <td>56000.000000</td>\n",
       "      <td>...</td>\n",
       "      <td>56000.000000</td>\n",
       "      <td>56000.000000</td>\n",
       "      <td>56000.000000</td>\n",
       "      <td>56000.000000</td>\n",
       "      <td>56000.000000</td>\n",
       "      <td>56000.000000</td>\n",
       "      <td>56000.00000</td>\n",
       "      <td>56000.000000</td>\n",
       "      <td>56000.000000</td>\n",
       "      <td>56000.000000</td>\n",
       "    </tr>\n",
       "    <tr>\n",
       "      <th>mean</th>\n",
       "      <td>0.873482</td>\n",
       "      <td>0.873482</td>\n",
       "      <td>0.873482</td>\n",
       "      <td>0.873482</td>\n",
       "      <td>0.873500</td>\n",
       "      <td>0.873500</td>\n",
       "      <td>0.873536</td>\n",
       "      <td>0.873679</td>\n",
       "      <td>0.877179</td>\n",
       "      <td>0.883036</td>\n",
       "      <td>...</td>\n",
       "      <td>0.899732</td>\n",
       "      <td>0.897536</td>\n",
       "      <td>0.888554</td>\n",
       "      <td>0.878393</td>\n",
       "      <td>0.874071</td>\n",
       "      <td>0.873589</td>\n",
       "      <td>0.87350</td>\n",
       "      <td>0.873482</td>\n",
       "      <td>0.873482</td>\n",
       "      <td>4.494393</td>\n",
       "    </tr>\n",
       "    <tr>\n",
       "      <th>std</th>\n",
       "      <td>1.493611</td>\n",
       "      <td>1.493611</td>\n",
       "      <td>1.493611</td>\n",
       "      <td>1.493611</td>\n",
       "      <td>1.493642</td>\n",
       "      <td>1.493642</td>\n",
       "      <td>1.493681</td>\n",
       "      <td>1.493741</td>\n",
       "      <td>1.557755</td>\n",
       "      <td>1.763484</td>\n",
       "      <td>...</td>\n",
       "      <td>2.041735</td>\n",
       "      <td>2.039311</td>\n",
       "      <td>1.995824</td>\n",
       "      <td>1.587205</td>\n",
       "      <td>1.494407</td>\n",
       "      <td>1.493691</td>\n",
       "      <td>1.49369</td>\n",
       "      <td>1.493611</td>\n",
       "      <td>1.493611</td>\n",
       "      <td>2.872563</td>\n",
       "    </tr>\n",
       "    <tr>\n",
       "      <th>min</th>\n",
       "      <td>0.000000</td>\n",
       "      <td>0.000000</td>\n",
       "      <td>0.000000</td>\n",
       "      <td>0.000000</td>\n",
       "      <td>0.000000</td>\n",
       "      <td>0.000000</td>\n",
       "      <td>0.000000</td>\n",
       "      <td>0.000000</td>\n",
       "      <td>0.000000</td>\n",
       "      <td>0.000000</td>\n",
       "      <td>...</td>\n",
       "      <td>0.000000</td>\n",
       "      <td>0.000000</td>\n",
       "      <td>0.000000</td>\n",
       "      <td>0.000000</td>\n",
       "      <td>0.000000</td>\n",
       "      <td>0.000000</td>\n",
       "      <td>0.00000</td>\n",
       "      <td>0.000000</td>\n",
       "      <td>0.000000</td>\n",
       "      <td>0.000000</td>\n",
       "    </tr>\n",
       "    <tr>\n",
       "      <th>25%</th>\n",
       "      <td>0.000000</td>\n",
       "      <td>0.000000</td>\n",
       "      <td>0.000000</td>\n",
       "      <td>0.000000</td>\n",
       "      <td>0.000000</td>\n",
       "      <td>0.000000</td>\n",
       "      <td>0.000000</td>\n",
       "      <td>0.000000</td>\n",
       "      <td>0.000000</td>\n",
       "      <td>0.000000</td>\n",
       "      <td>...</td>\n",
       "      <td>0.000000</td>\n",
       "      <td>0.000000</td>\n",
       "      <td>0.000000</td>\n",
       "      <td>0.000000</td>\n",
       "      <td>0.000000</td>\n",
       "      <td>0.000000</td>\n",
       "      <td>0.00000</td>\n",
       "      <td>0.000000</td>\n",
       "      <td>0.000000</td>\n",
       "      <td>2.000000</td>\n",
       "    </tr>\n",
       "    <tr>\n",
       "      <th>50%</th>\n",
       "      <td>0.000000</td>\n",
       "      <td>0.000000</td>\n",
       "      <td>0.000000</td>\n",
       "      <td>0.000000</td>\n",
       "      <td>0.000000</td>\n",
       "      <td>0.000000</td>\n",
       "      <td>0.000000</td>\n",
       "      <td>0.000000</td>\n",
       "      <td>0.000000</td>\n",
       "      <td>0.000000</td>\n",
       "      <td>...</td>\n",
       "      <td>0.000000</td>\n",
       "      <td>0.000000</td>\n",
       "      <td>0.000000</td>\n",
       "      <td>0.000000</td>\n",
       "      <td>0.000000</td>\n",
       "      <td>0.000000</td>\n",
       "      <td>0.00000</td>\n",
       "      <td>0.000000</td>\n",
       "      <td>0.000000</td>\n",
       "      <td>4.000000</td>\n",
       "    </tr>\n",
       "    <tr>\n",
       "      <th>75%</th>\n",
       "      <td>1.000000</td>\n",
       "      <td>1.000000</td>\n",
       "      <td>1.000000</td>\n",
       "      <td>1.000000</td>\n",
       "      <td>1.000000</td>\n",
       "      <td>1.000000</td>\n",
       "      <td>1.000000</td>\n",
       "      <td>1.000000</td>\n",
       "      <td>1.000000</td>\n",
       "      <td>1.000000</td>\n",
       "      <td>...</td>\n",
       "      <td>1.000000</td>\n",
       "      <td>1.000000</td>\n",
       "      <td>1.000000</td>\n",
       "      <td>1.000000</td>\n",
       "      <td>1.000000</td>\n",
       "      <td>1.000000</td>\n",
       "      <td>1.00000</td>\n",
       "      <td>1.000000</td>\n",
       "      <td>1.000000</td>\n",
       "      <td>7.000000</td>\n",
       "    </tr>\n",
       "    <tr>\n",
       "      <th>max</th>\n",
       "      <td>11.000000</td>\n",
       "      <td>11.000000</td>\n",
       "      <td>11.000000</td>\n",
       "      <td>11.000000</td>\n",
       "      <td>11.000000</td>\n",
       "      <td>11.000000</td>\n",
       "      <td>11.000000</td>\n",
       "      <td>11.000000</td>\n",
       "      <td>80.000000</td>\n",
       "      <td>168.000000</td>\n",
       "      <td>...</td>\n",
       "      <td>141.000000</td>\n",
       "      <td>168.000000</td>\n",
       "      <td>210.000000</td>\n",
       "      <td>107.000000</td>\n",
       "      <td>11.000000</td>\n",
       "      <td>11.000000</td>\n",
       "      <td>11.00000</td>\n",
       "      <td>11.000000</td>\n",
       "      <td>11.000000</td>\n",
       "      <td>9.000000</td>\n",
       "    </tr>\n",
       "  </tbody>\n",
       "</table>\n",
       "<p>8 rows × 1025 columns</p>\n",
       "</div>"
      ],
      "text/plain": [
       "               pix1          pix2          pix3          pix4          pix5  \\\n",
       "count  56000.000000  56000.000000  56000.000000  56000.000000  56000.000000   \n",
       "mean       0.873482      0.873482      0.873482      0.873482      0.873500   \n",
       "std        1.493611      1.493611      1.493611      1.493611      1.493642   \n",
       "min        0.000000      0.000000      0.000000      0.000000      0.000000   \n",
       "25%        0.000000      0.000000      0.000000      0.000000      0.000000   \n",
       "50%        0.000000      0.000000      0.000000      0.000000      0.000000   \n",
       "75%        1.000000      1.000000      1.000000      1.000000      1.000000   \n",
       "max       11.000000     11.000000     11.000000     11.000000     11.000000   \n",
       "\n",
       "               pix6          pix7          pix8          pix9         pix10  \\\n",
       "count  56000.000000  56000.000000  56000.000000  56000.000000  56000.000000   \n",
       "mean       0.873500      0.873536      0.873679      0.877179      0.883036   \n",
       "std        1.493642      1.493681      1.493741      1.557755      1.763484   \n",
       "min        0.000000      0.000000      0.000000      0.000000      0.000000   \n",
       "25%        0.000000      0.000000      0.000000      0.000000      0.000000   \n",
       "50%        0.000000      0.000000      0.000000      0.000000      0.000000   \n",
       "75%        1.000000      1.000000      1.000000      1.000000      1.000000   \n",
       "max       11.000000     11.000000     11.000000     80.000000    168.000000   \n",
       "\n",
       "       ...       pix1016       pix1017       pix1018       pix1019  \\\n",
       "count  ...  56000.000000  56000.000000  56000.000000  56000.000000   \n",
       "mean   ...      0.899732      0.897536      0.888554      0.878393   \n",
       "std    ...      2.041735      2.039311      1.995824      1.587205   \n",
       "min    ...      0.000000      0.000000      0.000000      0.000000   \n",
       "25%    ...      0.000000      0.000000      0.000000      0.000000   \n",
       "50%    ...      0.000000      0.000000      0.000000      0.000000   \n",
       "75%    ...      1.000000      1.000000      1.000000      1.000000   \n",
       "max    ...    141.000000    168.000000    210.000000    107.000000   \n",
       "\n",
       "            pix1020       pix1021      pix1022       pix1023       pix1024  \\\n",
       "count  56000.000000  56000.000000  56000.00000  56000.000000  56000.000000   \n",
       "mean       0.874071      0.873589      0.87350      0.873482      0.873482   \n",
       "std        1.494407      1.493691      1.49369      1.493611      1.493611   \n",
       "min        0.000000      0.000000      0.00000      0.000000      0.000000   \n",
       "25%        0.000000      0.000000      0.00000      0.000000      0.000000   \n",
       "50%        0.000000      0.000000      0.00000      0.000000      0.000000   \n",
       "75%        1.000000      1.000000      1.00000      1.000000      1.000000   \n",
       "max       11.000000     11.000000     11.00000     11.000000     11.000000   \n",
       "\n",
       "              label  \n",
       "count  56000.000000  \n",
       "mean       4.494393  \n",
       "std        2.872563  \n",
       "min        0.000000  \n",
       "25%        2.000000  \n",
       "50%        4.000000  \n",
       "75%        7.000000  \n",
       "max        9.000000  \n",
       "\n",
       "[8 rows x 1025 columns]"
      ]
     },
     "execution_count": 4,
     "metadata": {},
     "output_type": "execute_result"
    }
   ],
   "source": [
    "df.describe()"
   ]
  },
  {
   "cell_type": "markdown",
   "metadata": {},
   "source": [
    "Každý řádek v datech zaznamenává informace o jednom obrázku, prvních 1024 sloupcích jsou zaznamenané hodnoty jasu na jednotlivých pixelech obrázku (jedná se o grayscale obrázek) a poslední sloupec, zaznamenává o jaký druh oblečení se na obrázku jedná."
   ]
  },
  {
   "cell_type": "markdown",
   "metadata": {},
   "source": [
    "Jak lze vidět, vyskytuje se zde více kategorií, v dalších krocích mám v úmyslu zjistit, jaké kategorie jsou zde představovány."
   ]
  },
  {
   "cell_type": "markdown",
   "metadata": {},
   "source": [
    "Nejdříve nás bude zajímat, kolik druhů oblečení se vůbec v datasetu nachází."
   ]
  },
  {
   "cell_type": "code",
   "execution_count": 5,
   "metadata": {},
   "outputs": [
    {
     "name": "stdout",
     "output_type": "stream",
     "text": [
      "We are trying to predict 10 distinct categories.\n"
     ]
    }
   ],
   "source": [
    "print(f\"We are trying to predict {len(df.label.unique())} distinct categories.\")"
   ]
  },
  {
   "cell_type": "markdown",
   "metadata": {},
   "source": [
    "Dále bude mým cílem si zobrazit několik obrázku od každé kategorie, a tak určit o jaké druhy obleření se jedná. Tudiž si nejdříve nadefinuji funkci, která bude konvertovat záznamy o obrázku do aktuální obrázku."
   ]
  },
  {
   "cell_type": "code",
   "execution_count": 6,
   "metadata": {},
   "outputs": [],
   "source": [
    "import math\n",
    "def to_photo(row: pd.DataFrame):\n",
    "    photo = row.loc[:, row.columns != 'label'].to_numpy()\n",
    "    pixel_count = len(photo[0])\n",
    "    return np.reshape(photo, (int(np.sqrt(pixel_count)), int(np.sqrt(pixel_count))))"
   ]
  },
  {
   "cell_type": "markdown",
   "metadata": {},
   "source": [
    "Podívejme se tedy na pár obrázků od každé kategorie."
   ]
  },
  {
   "cell_type": "code",
   "execution_count": 7,
   "metadata": {
    "scrolled": false
   },
   "outputs": [
    {
     "data": {
      "image/png": "[encoded data removed]",
      "text/plain": [
       "<Figure size 800x400 with 3 Axes>"
      ]
     },
     "metadata": {},
     "output_type": "display_data"
    },
    {
     "data": {
      "image/png": "[encoded data removed]",
      "text/plain": [
       "<Figure size 800x400 with 3 Axes>"
      ]
     },
     "metadata": {},
     "output_type": "display_data"
    },
    {
     "data": {
      "image/png": "[encoded data removed]",
      "text/plain": [
       "<Figure size 800x400 with 3 Axes>"
      ]
     },
     "metadata": {},
     "output_type": "display_data"
    },
    {
     "data": {
      "image/png": "[encoded data removed]",
      "text/plain": [
       "<Figure size 800x400 with 3 Axes>"
      ]
     },
     "metadata": {},
     "output_type": "display_data"
    },
    {
     "data": {
      "image/png": "[encoded data removed]",
      "text/plain": [
       "<Figure size 800x400 with 3 Axes>"
      ]
     },
     "metadata": {},
     "output_type": "display_data"
    },
    {
     "data": {
      "image/png": "[encoded data removed]",
      "text/plain": [
       "<Figure size 800x400 with 3 Axes>"
      ]
     },
     "metadata": {},
     "output_type": "display_data"
    },
    {
     "data": {
      "image/png": "[encoded data removed]",
      "text/plain": [
       "<Figure size 800x400 with 3 Axes>"
      ]
     },
     "metadata": {},
     "output_type": "display_data"
    },
    {
     "data": {
      "image/png": "[encoded data removed]",
      "text/plain": [
       "<Figure size 800x400 with 3 Axes>"
      ]
     },
     "metadata": {},
     "output_type": "display_data"
    },
    {
     "data": {
      "image/png": "[encoded data removed]",
      "text/plain": [
       "<Figure size 800x400 with 3 Axes>"
      ]
     },
     "metadata": {},
     "output_type": "display_data"
    },
    {
     "data": {
      "image/png": "[encoded data removed]",
      "text/plain": [
       "<Figure size 800x400 with 3 Axes>"
      ]
     },
     "metadata": {},
     "output_type": "display_data"
    }
   ],
   "source": [
    "images_wanted = 3\n",
    "for category in sorted(df.label.unique()):\n",
    "    fig, axs = plt.subplots(1, images_wanted, figsize=(8, 4))\n",
    "    for i in range(images_wanted):\n",
    "        axs[i].imshow(to_photo(df[df.label == category].iloc[[i]]))\n",
    "    fig.suptitle(f\"Images with label {category}\", fontsize='large')\n",
    "    fig.subplots_adjust(top=1.25)\n",
    "    plt.show()\n",
    "    "
   ]
  },
  {
   "cell_type": "markdown",
   "metadata": {},
   "source": [
    "Máme tu tyto kategorie:\n",
    "* Label 0 - Tričko\n",
    "* Label 1 - Kalhoty\n",
    "* Label 2 - Mikina/Svetr\n",
    "* Label 3 - Šaty\n",
    "* Label 4 - Bunda\n",
    "* Label 5 - Otevřená obuv\n",
    "* Label 6 - Halenka/Bluza\n",
    "* Label 7 - Bota\n",
    "* Label 8 - Kabelka/Taška\n",
    "* Label 9 - Vysoká bota\n",
    "\n",
    "Jak lze vidět, nachází se zde množství kategoríí, které si jsou velmi podobné, především u kategorií, u kterých si sám nejsem jistý zda se jedná o svetry/trička, či něco úplně jiného.\n",
    "Dalším zásadním problémem očekávám, že budou boty, jelikož nejsou symetrické a nemají ani zadanou jednotnou orientaci, což muže rozhodit případný rozhodující algoritmus."
   ]
  },
  {
   "cell_type": "markdown",
   "metadata": {},
   "source": [
    "Dále se podívám na rozložení hodnot, kategorií, především mě bude zajímat, zda jsou kategorie reprezentovány v podobné míře, či nikoliv."
   ]
  },
  {
   "cell_type": "code",
   "execution_count": 8,
   "metadata": {},
   "outputs": [
    {
     "data": {
      "text/plain": [
       "2    5645\n",
       "3    5628\n",
       "0    5627\n",
       "5    5618\n",
       "9    5617\n",
       "4    5605\n",
       "8    5571\n",
       "6    5570\n",
       "1    5562\n",
       "7    5557\n",
       "Name: label, dtype: int64"
      ]
     },
     "execution_count": 8,
     "metadata": {},
     "output_type": "execute_result"
    }
   ],
   "source": [
    "df.label.value_counts()"
   ]
  },
  {
   "cell_type": "code",
   "execution_count": 9,
   "metadata": {},
   "outputs": [
    {
     "data": {
      "image/png": "[encoded data removed]",
      "text/plain": [
       "<Figure size 800x400 with 1 Axes>"
      ]
     },
     "metadata": {},
     "output_type": "display_data"
    }
   ],
   "source": [
    "fig, ax = plt.subplots(figsize=(8, 4))\n",
    "ax.hist(df.label, rwidth=0.5, bins=10, align='left')\n",
    "ax.set_xticks(list(range(0, 10)))\n",
    "plt.show()"
   ]
  },
  {
   "cell_type": "markdown",
   "metadata": {},
   "source": [
    "Počty kategorií v trénovacích datech jsou vyrovnané a balancování se tudíž není nutné."
   ]
  },
  {
   "cell_type": "markdown",
   "metadata": {},
   "source": [
    "# Dopředná neuronová síť"
   ]
  },
  {
   "cell_type": "markdown",
   "metadata": {},
   "source": [
    "V následující časti, se pokusím vytrénovat na něchto datech dopředné neuronové síťě. Ty pro data strukturovaná do tensorů příliš vhodná nejsou a očekávám tudíž, že se u nich obecně bude dostávat výsledkům horším, než u sítí konvolučních."
   ]
  },
  {
   "cell_type": "code",
   "execution_count": 10,
   "metadata": {},
   "outputs": [],
   "source": [
    "# imports for models\n",
    "from torch import nn\n",
    "import torch.nn.functional as F\n",
    "from tqdm import tqdm"
   ]
  },
  {
   "cell_type": "markdown",
   "metadata": {},
   "source": [
    "Nejdříve, bude pro trénování modelu nutné připravit si data, prozatím pouze nenormalizované."
   ]
  },
  {
   "cell_type": "code",
   "execution_count": 11,
   "metadata": {},
   "outputs": [
    {
     "name": "stdout",
     "output_type": "stream",
     "text": [
      "Počet prvků datasetu: 56000\n"
     ]
    }
   ],
   "source": [
    "source_images = df.iloc[:, :1024].to_numpy()\n",
    "source_labels = df.label.to_numpy()\n",
    "dataset = torch.utils.data.TensorDataset(torch.tensor(source_images, dtype = torch.float), torch.tensor(source_labels, dtype = torch.long))\n",
    "\n",
    "print(f\"Počet prvků datasetu: {len(dataset)}\")"
   ]
  },
  {
   "cell_type": "markdown",
   "metadata": {},
   "source": [
    "Dále si data rozdělím na trénovací, validační a testovací množiny"
   ]
  },
  {
   "cell_type": "code",
   "execution_count": 12,
   "metadata": {},
   "outputs": [
    {
     "name": "stdout",
     "output_type": "stream",
     "text": [
      "The length of train data is: 44800\n",
      "The length of val data is: 5600\n"
     ]
    }
   ],
   "source": [
    "generator1 = torch.Generator().manual_seed(42)\n",
    "split = [0.8, 0.1, 0.1]\n",
    "train_data, val_data, test_data = torch.utils.data.random_split(dataset, split, generator1)\n",
    "print(\"The length of train data is:\",len(train_data))\n",
    "print(\"The length of val data is:\",len(val_data))"
   ]
  },
  {
   "cell_type": "markdown",
   "metadata": {},
   "source": [
    "Teď, když data jsou rozděleny, si vytvořím jejich čítače."
   ]
  },
  {
   "cell_type": "code",
   "execution_count": 13,
   "metadata": {},
   "outputs": [],
   "source": [
    "training_loader = torch.utils.data.DataLoader(train_data, batch_size=32, shuffle=True)\n",
    "validation_loader = torch.utils.data.DataLoader(val_data, batch_size=128, shuffle=False)"
   ]
  },
  {
   "cell_type": "markdown",
   "metadata": {},
   "source": [
    "Dále bude nutné připravit funkce, které provedou aktuální trénování, tyto funkce byli převzaty z jupyter notebook cvičení tohoto předmětu a pouze lehce poupraveny."
   ]
  },
  {
   "cell_type": "code",
   "execution_count": 14,
   "metadata": {},
   "outputs": [],
   "source": [
    "# using function from courses for epoch training\n",
    "def train_one_epoch(model, loss_fn, optimizer, training_loader, fill=None):\n",
    "    running_cum_loss = 0.\n",
    "\n",
    "    for data in iter(training_loader):\n",
    "        # Every data instance is an input + label pair\n",
    "        inputs, labels = data\n",
    "\n",
    "        # Zero your gradients for every batch!\n",
    "        optimizer.zero_grad()\n",
    "\n",
    "        # Make predictions for this batch\n",
    "        outputs = model(inputs)\n",
    "\n",
    "        # Compute the loss and its gradients\n",
    "        loss = loss_fn(outputs, labels)\n",
    "        \n",
    "        # Backpropagation\n",
    "        loss.backward()\n",
    "\n",
    "        # Adjust learning weights\n",
    "        optimizer.step()\n",
    "\n",
    "        # Gather data and report\n",
    "        last_mean_loss = loss.item()\n",
    "        running_cum_loss += last_mean_loss * inputs.shape[0]\n",
    "            \n",
    "    # Return of the average over the whole training set\n",
    "    return running_cum_loss / len(train_data)"
   ]
  },
  {
   "cell_type": "code",
   "execution_count": 131,
   "metadata": {},
   "outputs": [],
   "source": [
    "\n",
    "def train_model(model, loss_fn, optimizer, training_loader, validation_loader, epochs=10, length=len(val_data)):\n",
    "    # here to avoid the need to specify default loss and optimizer\n",
    "    # every single time\n",
    "    if loss_fn is None:\n",
    "        loss_fn = nn.CrossEntropyLoss()\n",
    "    if optimizer is None:\n",
    "        optimizer = torch.optim.Adam(model.parameters())\n",
    "    \n",
    "    # if the vloss somehow ends up being higher during the training,\n",
    "    # the model shouldn't be trained at all\n",
    "    best_accuraccy = 0\n",
    "    non_improvements = 0\n",
    "    MAX_NON = 3\n",
    "    for epoch in range(epochs):\n",
    "        print('EPOCH {}:'.format(epoch + 1))\n",
    "        model.train(True)\n",
    "        # One training step\n",
    "        avg_loss = train_one_epoch(model, loss_fn, optimizer, training_loader)\n",
    "        model.train(False)\n",
    "        # Validation performance\n",
    "        running_cum_vloss = 0.0\n",
    "        vcorrect = 0\n",
    "        for i, vdata in enumerate(validation_loader):\n",
    "            vinputs, vlabels = vdata\n",
    "            with torch.no_grad():\n",
    "                voutputs = model(vinputs)\n",
    "                vloss = loss_fn(voutputs, vlabels)\n",
    "            running_cum_vloss += vloss * vinputs.shape[0]\n",
    "            # count the correctly classified samoples\n",
    "            vcorrect += (voutputs.argmax(1) == vlabels).float().sum()\n",
    "        # Get average loss and accuraccy\n",
    "        avg_vloss = running_cum_vloss / length # len(val_data) used, because all will have same length\n",
    "        vacc = vcorrect / length\n",
    "        if vacc > best_accuraccy:\n",
    "            best_accuraccy = vacc\n",
    "        else:\n",
    "            non_improvements += 1\n",
    "            if (non_improvements > MAX_NON):\n",
    "                break\n",
    "        \n",
    "        print(f\"TRAIN loss: {avg_loss:.3f}, VALIDATION loss: {avg_vloss:.3f}, accuraccy: {vacc:.3f}\")\n",
    "    print(f\"Best accuracy: {best_accuraccy:.3f}\")"
   ]
  },
  {
   "cell_type": "markdown",
   "metadata": {},
   "source": [
    "Po definici funkcí a dat, lze přejít na trénování modelů.\n",
    "Bude naším cílem nalézt ideální model.\\\n",
    "Budeme testovat:\\\n",
    "    1. Tvar neuronové sítě,\\\n",
    "    2. Optimalizační funkce,\\\n",
    "    3. Normalizaci či standardizaci dat\\\n",
    "    4. Regularizaci\\\n",
    "    5. Dodávání dropout/batch normalization vrstev\\"
   ]
  },
  {
   "cell_type": "markdown",
   "metadata": {},
   "source": [
    "## Tvar neuronové sítě.\n",
    "\n",
    "Zde budem postupně porovnávat různé tvary a konfigurace neuronové sítě tvořené pouze Linearními vrstvami spolu s aktivačními funkcemi."
   ]
  },
  {
   "cell_type": "markdown",
   "metadata": {},
   "source": [
    "Jako první zde máme jednoduchý model tvořený pouze jednou vrstvou."
   ]
  },
  {
   "cell_type": "code",
   "execution_count": 16,
   "metadata": {},
   "outputs": [],
   "source": [
    "# Simples possible model, just linear regression\n",
    "# made to have something to compare other models to\n",
    "class LinearNetwork(nn.Module):\n",
    "    def __init__(self):\n",
    "        \"\"\"\n",
    "        Constructor - defines all elements with parameters\n",
    "        \"\"\"\n",
    "        super().__init__()\n",
    "        self.fc1 = nn.Linear(1024, 10)\n",
    "\n",
    "    def forward(self, x):\n",
    "        \"\"\"\n",
    "        Calculation of the output of the network\n",
    "        \"\"\"\n",
    "        x = self.fc1(x)\n",
    "        return x"
   ]
  },
  {
   "cell_type": "markdown",
   "metadata": {},
   "source": [
    "Dále si vytvoříme modely, tak, že pouze budem pridavat velke 1024,1024 lineární vstvy. Zde očekávám že modely budou relativně přesný ale s příbívaním vrstev prohibitivně časově náročný."
   ]
  },
  {
   "cell_type": "code",
   "execution_count": 17,
   "metadata": {},
   "outputs": [],
   "source": [
    "\n",
    "class Depth2Width1024Network(nn.Module):\n",
    "    def __init__(self):\n",
    "        \"\"\"\n",
    "        Constructor - defines all elements with parameters\n",
    "        \"\"\"\n",
    "        super().__init__()\n",
    "        self.fc2 = nn.Linear(1024, 1024)\n",
    "        self.fc1 = nn.Linear(1024, 10)\n",
    "\n",
    "    def forward(self, x):\n",
    "        \"\"\"\n",
    "        Calculation of the output of the network\n",
    "        \"\"\"\n",
    "        x = F.relu(self.fc2(x))\n",
    "        x = self.fc1(x)\n",
    "        return x\n",
    "\n",
    "class Depth3Width1024Network(nn.Module):\n",
    "    def __init__(self):\n",
    "        \"\"\"\n",
    "        Constructor - defines all elements with parameters\n",
    "        \"\"\"\n",
    "        super().__init__()\n",
    "        self.fc3 = nn.Linear(1024, 1024)\n",
    "        self.fc2 = nn.Linear(1024, 1024)\n",
    "        self.fc1 = nn.Linear(1024, 10)\n",
    "\n",
    "    def forward(self, x):\n",
    "        \"\"\"\n",
    "        Calculation of the output of the network\n",
    "        \"\"\"\n",
    "        x = F.relu(self.fc3(x))\n",
    "        x = F.relu(self.fc2(x))\n",
    "        x = self.fc1(x)\n",
    "        return x\n",
    "\n",
    "    \n",
    "class Depth4Width1024Network(nn.Module):\n",
    "    def __init__(self):\n",
    "        \"\"\"\n",
    "        Constructor - defines all elements with parameters\n",
    "        \"\"\"\n",
    "        super().__init__()\n",
    "        \n",
    "        self.fc4 = nn.Linear(1024, 1024)\n",
    "        self.fc3 = nn.Linear(1024, 1024)\n",
    "        self.fc2 = nn.Linear(1024, 1024)\n",
    "        self.fc1 = nn.Linear(1024, 10)\n",
    "\n",
    "    def forward(self, x):\n",
    "        \"\"\"\n",
    "        Calculation of the output of the network\n",
    "        \"\"\"\n",
    "        \n",
    "        x = F.relu(self.fc4(x))\n",
    "        x = F.relu(self.fc3(x))\n",
    "        x = F.relu(self.fc2(x))\n",
    "        x = self.fc1(x)\n",
    "        return x"
   ]
  },
  {
   "cell_type": "markdown",
   "metadata": {},
   "source": [
    "Jako první natrénuji model s jednou vrstvou, vysokou přesnost od tohohle modelu očekávat nelze, poslouží ale jako minimum, pod jehož přesnost by se žádný správně nastavený model dostat neměl."
   ]
  },
  {
   "cell_type": "code",
   "execution_count": 18,
   "metadata": {
    "scrolled": true
   },
   "outputs": [
    {
     "name": "stdout",
     "output_type": "stream",
     "text": [
      "Training LinearNetwork\n",
      "EPOCH 1:\n",
      "TRAIN loss: 11.963, VALIDATION loss: 11.197, accuraccy: 0.615\n",
      "EPOCH 2:\n",
      "TRAIN loss: 11.356, VALIDATION loss: 13.714, accuraccy: 0.575\n",
      "EPOCH 3:\n",
      "TRAIN loss: 11.577, VALIDATION loss: 10.478, accuraccy: 0.683\n",
      "EPOCH 4:\n",
      "TRAIN loss: 10.898, VALIDATION loss: 10.314, accuraccy: 0.659\n",
      "EPOCH 5:\n",
      "TRAIN loss: 10.929, VALIDATION loss: 14.174, accuraccy: 0.624\n",
      "EPOCH 6:\n",
      "Best accuracy: 0.683\n",
      "CPU times: total: 54.9 s\n",
      "Wall time: 47.1 s\n"
     ]
    }
   ],
   "source": [
    "%%time\n",
    "print(\"Training LinearNetwork\")\n",
    "model = LinearNetwork()\n",
    "train_model(model, None, None, training_loader, validation_loader)"
   ]
  },
  {
   "cell_type": "markdown",
   "metadata": {},
   "source": [
    "Dále použijeme model s vrstvou navíc."
   ]
  },
  {
   "cell_type": "code",
   "execution_count": 19,
   "metadata": {
    "scrolled": true
   },
   "outputs": [
    {
     "name": "stdout",
     "output_type": "stream",
     "text": [
      "Training Depth2Width1024Network\n",
      "EPOCH 1:\n",
      "TRAIN loss: 1.771, VALIDATION loss: 0.656, accuraccy: 0.762\n",
      "EPOCH 2:\n",
      "TRAIN loss: 0.686, VALIDATION loss: 0.717, accuraccy: 0.712\n",
      "EPOCH 3:\n",
      "TRAIN loss: 0.677, VALIDATION loss: 0.678, accuraccy: 0.763\n",
      "EPOCH 4:\n",
      "TRAIN loss: 0.662, VALIDATION loss: 0.675, accuraccy: 0.767\n",
      "EPOCH 5:\n",
      "TRAIN loss: 0.667, VALIDATION loss: 0.769, accuraccy: 0.714\n",
      "EPOCH 6:\n",
      "TRAIN loss: 0.649, VALIDATION loss: 0.722, accuraccy: 0.762\n",
      "EPOCH 7:\n",
      "TRAIN loss: 0.633, VALIDATION loss: 0.688, accuraccy: 0.768\n",
      "EPOCH 8:\n",
      "TRAIN loss: 0.624, VALIDATION loss: 0.656, accuraccy: 0.785\n",
      "EPOCH 9:\n",
      "TRAIN loss: 0.608, VALIDATION loss: 0.635, accuraccy: 0.790\n",
      "EPOCH 10:\n",
      "Best accuracy: 0.790\n",
      "CPU times: total: 10min 42s\n",
      "Wall time: 6min 54s\n"
     ]
    }
   ],
   "source": [
    "%%time\n",
    "print(\"Training Depth2Width1024Network\")\n",
    "model = Depth2Width1024Network()\n",
    "train_model(model, None, None, training_loader, validation_loader)"
   ]
  },
  {
   "cell_type": "markdown",
   "metadata": {},
   "source": [
    "S přidáním vrstvy přesnost vzrostla o 10 %, ale doba trénování se více jak zpětinásobila."
   ]
  },
  {
   "cell_type": "code",
   "execution_count": 20,
   "metadata": {
    "scrolled": false
   },
   "outputs": [
    {
     "name": "stdout",
     "output_type": "stream",
     "text": [
      "Training Depth3Width1024Network\n",
      "EPOCH 1:\n",
      "TRAIN loss: 1.101, VALIDATION loss: 0.705, accuraccy: 0.727\n",
      "EPOCH 2:\n",
      "TRAIN loss: 0.606, VALIDATION loss: 0.574, accuraccy: 0.791\n",
      "EPOCH 3:\n",
      "TRAIN loss: 0.567, VALIDATION loss: 0.604, accuraccy: 0.779\n",
      "EPOCH 4:\n",
      "TRAIN loss: 0.536, VALIDATION loss: 0.574, accuraccy: 0.785\n",
      "EPOCH 5:\n",
      "TRAIN loss: 0.521, VALIDATION loss: 0.566, accuraccy: 0.800\n",
      "EPOCH 6:\n",
      "TRAIN loss: 0.509, VALIDATION loss: 0.547, accuraccy: 0.810\n",
      "EPOCH 7:\n",
      "TRAIN loss: 0.501, VALIDATION loss: 0.596, accuraccy: 0.777\n",
      "EPOCH 8:\n",
      "TRAIN loss: 0.487, VALIDATION loss: 0.551, accuraccy: 0.810\n",
      "EPOCH 9:\n",
      "TRAIN loss: 0.476, VALIDATION loss: 0.557, accuraccy: 0.812\n",
      "EPOCH 10:\n",
      "Best accuracy: 0.812\n",
      "CPU times: total: 21min 50s\n",
      "Wall time: 13min 56s\n"
     ]
    }
   ],
   "source": [
    "%%time\n",
    "print(\"Training Depth3Width1024Network\")\n",
    "model = Depth3Width1024Network()\n",
    "train_model(model, None, None, training_loader, validation_loader)"
   ]
  },
  {
   "cell_type": "markdown",
   "metadata": {},
   "source": [
    "Přídání poslední vrstvy sice přesnost zvýšilo nad hranici 82 %, ale doba trénovaní se téměř zřtyřnásobila na necelých 20 minut. Další vrstvy této velikost, již testovat na tomto stroji není praktické. Postoupíme dále s neuronovýma sítěma s menším množstvím neuronů na vrstvu."
   ]
  },
  {
   "cell_type": "markdown",
   "metadata": {},
   "source": [
    "Dálší velikost vrstev, s kterou budu experimentovat je 256, zde očekávám zvýšenou nutnost vrstev, pro stejný výsledek jako v předchozích modelech, ale mnohonásobně kratší dobu trénování."
   ]
  },
  {
   "cell_type": "code",
   "execution_count": 21,
   "metadata": {},
   "outputs": [],
   "source": [
    "class Depth2Width256Network(nn.Module):\n",
    "    def __init__(self):\n",
    "        \"\"\"\n",
    "        Constructor - defines all elements with parameters\n",
    "        \"\"\"\n",
    "        super().__init__()\n",
    "        self.fc2 = nn.Linear(1024, 256)\n",
    "        self.fc1 = nn.Linear(256, 10)\n",
    "\n",
    "    def forward(self, x):\n",
    "        \"\"\"\n",
    "        Calculation of the output of the network\n",
    "        \"\"\"\n",
    "        x = F.relu(self.fc2(x))\n",
    "        x = self.fc1(x)\n",
    "        return x\n",
    "\n",
    "class Depth3Width256Network(nn.Module):\n",
    "    def __init__(self):\n",
    "        \"\"\"\n",
    "        Constructor - defines all elements with parameters\n",
    "        \"\"\"\n",
    "        super().__init__()\n",
    "        self.fc3 = nn.Linear(1024, 256)\n",
    "        self.fc2 = nn.Linear(256, 256)\n",
    "        self.fc1 = nn.Linear(256, 10)\n",
    "\n",
    "    def forward(self, x):\n",
    "        \"\"\"\n",
    "        Calculation of the output of the network\n",
    "        \"\"\"\n",
    "        x = F.relu(self.fc3(x))\n",
    "        x = F.relu(self.fc2(x))\n",
    "        x = self.fc1(x)\n",
    "        return x\n",
    "\n",
    "    \n",
    "class Depth4Width256Network(nn.Module):\n",
    "    def __init__(self):\n",
    "        \"\"\"\n",
    "        Constructor - defines all elements with parameters\n",
    "        \"\"\"\n",
    "        super().__init__()\n",
    "        \n",
    "        self.fc4 = nn.Linear(1024, 256)\n",
    "        self.fc3 = nn.Linear(256, 256)\n",
    "        self.fc2 = nn.Linear(256, 256)\n",
    "        self.fc1 = nn.Linear(256, 10)\n",
    "\n",
    "    def forward(self, x):\n",
    "        \"\"\"\n",
    "        Calculation of the output of the network\n",
    "        \"\"\"\n",
    "        \n",
    "        x = F.relu(self.fc4(x))\n",
    "        x = F.relu(self.fc3(x))\n",
    "        x = F.relu(self.fc2(x))\n",
    "        x = self.fc1(x)\n",
    "        return x\n",
    "class Depth5Width256Network(nn.Module):\n",
    "    def __init__(self):\n",
    "        \"\"\"\n",
    "        Constructor - defines all elements with parameters\n",
    "        \"\"\"\n",
    "        super().__init__()\n",
    "        self.fc5 = nn.Linear(1024, 256)\n",
    "        self.fc4 = nn.Linear(256, 256)\n",
    "        self.fc3 = nn.Linear(256, 256)\n",
    "        self.fc2 = nn.Linear(256, 256)\n",
    "        self.fc1 = nn.Linear(256, 10)\n",
    "\n",
    "    def forward(self, x):\n",
    "        \"\"\"\n",
    "        Calculation of the output of the network\n",
    "        \"\"\"\n",
    "        x = F.relu(self.fc5(x))\n",
    "        x = F.relu(self.fc4(x))\n",
    "        x = F.relu(self.fc3(x))\n",
    "        x = F.relu(self.fc2(x))\n",
    "        x = self.fc1(x)\n",
    "        return x\n",
    "class Depth6Width256Network(nn.Module):\n",
    "    def __init__(self):\n",
    "        \"\"\"\n",
    "        Constructor - defines all elements with parameters\n",
    "        \"\"\"\n",
    "        super().__init__()\n",
    "        \n",
    "        self.fc6 = nn.Linear(1024, 256)\n",
    "        self.fc5 = nn.Linear(256, 256)\n",
    "        self.fc4 = nn.Linear(256, 256)\n",
    "\n",
    "        self.fc3 = nn.Linear(256, 256)\n",
    "        self.fc2 = nn.Linear(256, 256)\n",
    "        self.fc1 = nn.Linear(256, 10)\n",
    "\n",
    "    def forward(self, x):\n",
    "        \"\"\"\n",
    "        Calculation of the output of the network\n",
    "        \"\"\"\n",
    "        x = F.relu(self.fc6(x))\n",
    "        x = F.relu(self.fc5(x))\n",
    "        x = F.relu(self.fc4(x))\n",
    "        x = F.relu(self.fc3(x))\n",
    "        x = F.relu(self.fc2(x))\n",
    "        x = self.fc1(x)\n",
    "        return x"
   ]
  },
  {
   "cell_type": "code",
   "execution_count": 22,
   "metadata": {
    "scrolled": true
   },
   "outputs": [
    {
     "name": "stdout",
     "output_type": "stream",
     "text": [
      "Training Depth2Width256Network\n",
      "EPOCH 1:\n",
      "TRAIN loss: 1.348, VALIDATION loss: 0.689, accuraccy: 0.749\n",
      "EPOCH 2:\n",
      "TRAIN loss: 0.697, VALIDATION loss: 0.664, accuraccy: 0.770\n",
      "EPOCH 3:\n",
      "TRAIN loss: 0.682, VALIDATION loss: 0.663, accuraccy: 0.763\n",
      "EPOCH 4:\n",
      "TRAIN loss: 0.669, VALIDATION loss: 0.647, accuraccy: 0.775\n",
      "EPOCH 5:\n",
      "TRAIN loss: 0.639, VALIDATION loss: 0.685, accuraccy: 0.774\n",
      "EPOCH 6:\n",
      "TRAIN loss: 0.629, VALIDATION loss: 0.661, accuraccy: 0.774\n",
      "EPOCH 7:\n",
      "TRAIN loss: 0.642, VALIDATION loss: 0.661, accuraccy: 0.781\n",
      "EPOCH 8:\n",
      "TRAIN loss: 0.633, VALIDATION loss: 0.620, accuraccy: 0.794\n",
      "EPOCH 9:\n",
      "TRAIN loss: 0.614, VALIDATION loss: 0.638, accuraccy: 0.795\n",
      "EPOCH 10:\n",
      "Best accuracy: 0.795\n",
      "CPU times: total: 4min 17s\n",
      "Wall time: 3min 2s\n"
     ]
    }
   ],
   "source": [
    "%%time\n",
    "print(\"Training Depth2Width256Network\")\n",
    "model = Depth2Width256Network()\n",
    "train_model(model, None, None, training_loader, validation_loader)"
   ]
  },
  {
   "cell_type": "code",
   "execution_count": 23,
   "metadata": {
    "scrolled": true
   },
   "outputs": [
    {
     "name": "stdout",
     "output_type": "stream",
     "text": [
      "Training Depth3Width256Network\n",
      "EPOCH 1:\n",
      "TRAIN loss: 0.875, VALIDATION loss: 0.595, accuraccy: 0.776\n",
      "EPOCH 2:\n",
      "TRAIN loss: 0.610, VALIDATION loss: 0.560, accuraccy: 0.789\n",
      "EPOCH 3:\n",
      "TRAIN loss: 0.568, VALIDATION loss: 0.573, accuraccy: 0.791\n",
      "EPOCH 4:\n",
      "TRAIN loss: 0.545, VALIDATION loss: 0.581, accuraccy: 0.796\n",
      "EPOCH 5:\n",
      "TRAIN loss: 0.521, VALIDATION loss: 0.555, accuraccy: 0.810\n",
      "EPOCH 6:\n",
      "TRAIN loss: 0.507, VALIDATION loss: 0.509, accuraccy: 0.818\n",
      "EPOCH 7:\n",
      "TRAIN loss: 0.502, VALIDATION loss: 0.544, accuraccy: 0.811\n",
      "EPOCH 8:\n",
      "TRAIN loss: 0.484, VALIDATION loss: 0.527, accuraccy: 0.813\n",
      "EPOCH 9:\n",
      "TRAIN loss: 0.470, VALIDATION loss: 0.545, accuraccy: 0.810\n",
      "EPOCH 10:\n",
      "TRAIN loss: 0.471, VALIDATION loss: 0.523, accuraccy: 0.825\n",
      "Best accuracy: 0.825\n",
      "CPU times: total: 5min 4s\n",
      "Wall time: 3min 16s\n"
     ]
    }
   ],
   "source": [
    "%%time\n",
    "print(\"Training Depth3Width256Network\")\n",
    "model = Depth3Width256Network()\n",
    "train_model(model, None, None, training_loader, validation_loader)"
   ]
  },
  {
   "cell_type": "code",
   "execution_count": 24,
   "metadata": {
    "scrolled": true
   },
   "outputs": [
    {
     "name": "stdout",
     "output_type": "stream",
     "text": [
      "Training Depth4Width256Network\n",
      "EPOCH 1:\n",
      "TRAIN loss: 0.764, VALIDATION loss: 0.648, accuraccy: 0.737\n",
      "EPOCH 2:\n",
      "TRAIN loss: 0.589, VALIDATION loss: 0.578, accuraccy: 0.792\n",
      "EPOCH 3:\n",
      "TRAIN loss: 0.548, VALIDATION loss: 0.616, accuraccy: 0.766\n",
      "EPOCH 4:\n",
      "TRAIN loss: 0.522, VALIDATION loss: 0.575, accuraccy: 0.807\n",
      "EPOCH 5:\n",
      "TRAIN loss: 0.498, VALIDATION loss: 0.506, accuraccy: 0.818\n",
      "EPOCH 6:\n",
      "TRAIN loss: 0.480, VALIDATION loss: 0.522, accuraccy: 0.816\n",
      "EPOCH 7:\n",
      "TRAIN loss: 0.463, VALIDATION loss: 0.544, accuraccy: 0.812\n",
      "EPOCH 8:\n",
      "TRAIN loss: 0.458, VALIDATION loss: 0.509, accuraccy: 0.827\n",
      "EPOCH 9:\n",
      "Best accuracy: 0.827\n",
      "CPU times: total: 5min 19s\n",
      "Wall time: 3min 8s\n"
     ]
    }
   ],
   "source": [
    "%%time\n",
    "print(\"Training Depth4Width256Network\")\n",
    "model = Depth4Width256Network()\n",
    "train_model(model, None, None, training_loader, validation_loader)"
   ]
  },
  {
   "cell_type": "code",
   "execution_count": 25,
   "metadata": {
    "scrolled": true
   },
   "outputs": [
    {
     "name": "stdout",
     "output_type": "stream",
     "text": [
      "Training Depth5Width256Network\n",
      "EPOCH 1:\n",
      "TRAIN loss: 0.738, VALIDATION loss: 0.581, accuraccy: 0.785\n",
      "EPOCH 2:\n",
      "TRAIN loss: 0.591, VALIDATION loss: 0.602, accuraccy: 0.775\n",
      "EPOCH 3:\n",
      "TRAIN loss: 0.539, VALIDATION loss: 0.558, accuraccy: 0.798\n",
      "EPOCH 4:\n",
      "TRAIN loss: 0.514, VALIDATION loss: 0.533, accuraccy: 0.799\n",
      "EPOCH 5:\n",
      "TRAIN loss: 0.490, VALIDATION loss: 0.513, accuraccy: 0.821\n",
      "EPOCH 6:\n",
      "TRAIN loss: 0.473, VALIDATION loss: 0.519, accuraccy: 0.815\n",
      "EPOCH 7:\n",
      "TRAIN loss: 0.456, VALIDATION loss: 0.518, accuraccy: 0.818\n",
      "EPOCH 8:\n",
      "TRAIN loss: 0.444, VALIDATION loss: 0.493, accuraccy: 0.830\n",
      "EPOCH 9:\n",
      "Best accuracy: 0.830\n",
      "CPU times: total: 6min 3s\n",
      "Wall time: 3min 33s\n"
     ]
    }
   ],
   "source": [
    "%%time\n",
    "print(\"Training Depth5Width256Network\")\n",
    "model = Depth5Width256Network()\n",
    "train_model(model, None, None, training_loader, validation_loader)"
   ]
  },
  {
   "cell_type": "code",
   "execution_count": 26,
   "metadata": {
    "scrolled": true
   },
   "outputs": [
    {
     "name": "stdout",
     "output_type": "stream",
     "text": [
      "Training Depth6Width256Network\n",
      "EPOCH 1:\n",
      "TRAIN loss: 0.766, VALIDATION loss: 0.627, accuraccy: 0.776\n",
      "EPOCH 2:\n",
      "TRAIN loss: 0.600, VALIDATION loss: 0.553, accuraccy: 0.800\n",
      "EPOCH 3:\n",
      "TRAIN loss: 0.552, VALIDATION loss: 0.574, accuraccy: 0.785\n",
      "EPOCH 4:\n",
      "TRAIN loss: 0.517, VALIDATION loss: 0.502, accuraccy: 0.813\n",
      "EPOCH 5:\n",
      "TRAIN loss: 0.493, VALIDATION loss: 0.537, accuraccy: 0.806\n",
      "EPOCH 6:\n",
      "TRAIN loss: 0.472, VALIDATION loss: 0.500, accuraccy: 0.817\n",
      "EPOCH 7:\n",
      "TRAIN loss: 0.454, VALIDATION loss: 0.521, accuraccy: 0.808\n",
      "EPOCH 8:\n",
      "TRAIN loss: 0.443, VALIDATION loss: 0.465, accuraccy: 0.840\n",
      "EPOCH 9:\n",
      "Best accuracy: 0.840\n",
      "CPU times: total: 6min 55s\n",
      "Wall time: 4min 13s\n"
     ]
    }
   ],
   "source": [
    "%%time\n",
    "print(\"Training Depth6Width256Network\")\n",
    "model = Depth6Width256Network()\n",
    "train_model(model, None, None, training_loader, validation_loader)"
   ]
  },
  {
   "cell_type": "markdown",
   "metadata": {},
   "source": [
    "Modely se zde trénují mnohem rychleji a lze tak dokázat výšší přesnosti než s vrstvama o pobírající 1024 dimenzí. S přidáváním vrstev se však model přestává zlepšovat u 4 vrstev ve chvíli, kdy se model blíží k 83% přesnosti."
   ]
  },
  {
   "cell_type": "code",
   "execution_count": 27,
   "metadata": {},
   "outputs": [],
   "source": [
    "class Depth2Width512Network(nn.Module):\n",
    "    def __init__(self):\n",
    "        \"\"\"\n",
    "        Constructor - defines all elements with parameters\n",
    "        \"\"\"\n",
    "        super().__init__()\n",
    "        self.fc2 = nn.Linear(1024, 512)\n",
    "        self.fc1 = nn.Linear(512, 10)\n",
    "\n",
    "    def forward(self, x):\n",
    "        \"\"\"\n",
    "        Calculation of the output of the network\n",
    "        \"\"\"\n",
    "        x = F.relu(self.fc2(x))\n",
    "        x = self.fc1(x)\n",
    "        return x\n",
    "\n",
    "class Depth3Width512Network(nn.Module):\n",
    "    def __init__(self):\n",
    "        \"\"\"\n",
    "        Constructor - defines all elements with parameters\n",
    "        \"\"\"\n",
    "        super().__init__()\n",
    "        self.fc3 = nn.Linear(1024, 512)\n",
    "        self.fc2 = nn.Linear(512, 512)\n",
    "        self.fc1 = nn.Linear(512, 10)\n",
    "\n",
    "    def forward(self, x):\n",
    "        \"\"\"\n",
    "        Calculation of the output of the network\n",
    "        \"\"\"\n",
    "        x = F.relu(self.fc3(x))\n",
    "        x = F.relu(self.fc2(x))\n",
    "        x = self.fc1(x)\n",
    "        return x\n",
    "\n",
    "    \n",
    "class Depth4Width512Network(nn.Module):\n",
    "    def __init__(self):\n",
    "        \"\"\"\n",
    "        Constructor - defines all elements with parameters\n",
    "        \"\"\"\n",
    "        super().__init__()\n",
    "        \n",
    "        self.fc4 = nn.Linear(1024, 512)\n",
    "        self.fc3 = nn.Linear(512, 512)\n",
    "        self.fc2 = nn.Linear(512, 512)\n",
    "        self.fc1 = nn.Linear(512, 10)\n",
    "\n",
    "    def forward(self, x):\n",
    "        \"\"\"\n",
    "        Calculation of the output of the network\n",
    "        \"\"\"\n",
    "        \n",
    "        x = F.relu(self.fc4(x))\n",
    "        x = F.relu(self.fc3(x))\n",
    "        x = F.relu(self.fc2(x))\n",
    "        x = self.fc1(x)\n",
    "        return x\n",
    "class Depth5Width512Network(nn.Module):\n",
    "    def __init__(self):\n",
    "        \"\"\"\n",
    "        Constructor - defines all elements with parameters\n",
    "        \"\"\"\n",
    "        super().__init__()\n",
    "        self.fc5 = nn.Linear(1024, 512)\n",
    "        self.fc4 = nn.Linear(512, 512)\n",
    "        self.fc3 = nn.Linear(512, 512)\n",
    "        self.fc2 = nn.Linear(512, 512)\n",
    "        self.fc1 = nn.Linear(512, 10)\n",
    "\n",
    "    def forward(self, x):\n",
    "        \"\"\"\n",
    "        Calculation of the output of the network\n",
    "        \"\"\"\n",
    "        x = F.relu(self.fc5(x))\n",
    "        x = F.relu(self.fc4(x))\n",
    "        x = F.relu(self.fc3(x))\n",
    "        x = F.relu(self.fc2(x))\n",
    "        x = self.fc1(x)\n",
    "        return x"
   ]
  },
  {
   "cell_type": "code",
   "execution_count": 28,
   "metadata": {},
   "outputs": [
    {
     "name": "stdout",
     "output_type": "stream",
     "text": [
      "Training Depth2Width512Network\n",
      "EPOCH 1:\n",
      "TRAIN loss: 1.762, VALIDATION loss: 0.703, accuraccy: 0.756\n",
      "EPOCH 2:\n",
      "TRAIN loss: 0.668, VALIDATION loss: 0.721, accuraccy: 0.744\n",
      "EPOCH 3:\n",
      "TRAIN loss: 0.663, VALIDATION loss: 0.653, accuraccy: 0.768\n",
      "EPOCH 4:\n",
      "TRAIN loss: 0.662, VALIDATION loss: 0.688, accuraccy: 0.752\n",
      "EPOCH 5:\n",
      "TRAIN loss: 0.646, VALIDATION loss: 0.685, accuraccy: 0.775\n",
      "EPOCH 6:\n",
      "TRAIN loss: 0.630, VALIDATION loss: 0.610, accuraccy: 0.787\n",
      "EPOCH 7:\n",
      "TRAIN loss: 0.620, VALIDATION loss: 0.658, accuraccy: 0.773\n",
      "EPOCH 8:\n",
      "Best accuracy: 0.787\n",
      "CPU times: total: 5min 6s\n",
      "Wall time: 3min 1s\n"
     ]
    }
   ],
   "source": [
    "%%time\n",
    "print(\"Training Depth2Width512Network\")\n",
    "model = Depth2Width512Network()\n",
    "train_model(model, None, None, training_loader, validation_loader)"
   ]
  },
  {
   "cell_type": "code",
   "execution_count": 29,
   "metadata": {},
   "outputs": [
    {
     "name": "stdout",
     "output_type": "stream",
     "text": [
      "Training Depth3Width512Network\n",
      "EPOCH 1:\n",
      "TRAIN loss: 0.947, VALIDATION loss: 0.662, accuraccy: 0.759\n",
      "EPOCH 2:\n",
      "TRAIN loss: 0.607, VALIDATION loss: 0.572, accuraccy: 0.789\n",
      "EPOCH 3:\n",
      "TRAIN loss: 0.579, VALIDATION loss: 0.591, accuraccy: 0.794\n",
      "EPOCH 4:\n",
      "TRAIN loss: 0.551, VALIDATION loss: 0.572, accuraccy: 0.798\n",
      "EPOCH 5:\n",
      "TRAIN loss: 0.538, VALIDATION loss: 0.530, accuraccy: 0.812\n",
      "EPOCH 6:\n",
      "TRAIN loss: 0.518, VALIDATION loss: 0.581, accuraccy: 0.795\n",
      "EPOCH 7:\n",
      "TRAIN loss: 0.504, VALIDATION loss: 0.547, accuraccy: 0.809\n",
      "EPOCH 8:\n",
      "TRAIN loss: 0.492, VALIDATION loss: 0.540, accuraccy: 0.810\n",
      "EPOCH 9:\n",
      "Best accuracy: 0.812\n",
      "CPU times: total: 8min 31s\n",
      "Wall time: 5min\n"
     ]
    }
   ],
   "source": [
    "%%time\n",
    "print(\"Training Depth3Width512Network\")\n",
    "model = Depth3Width512Network()\n",
    "train_model(model, None, None, training_loader, validation_loader)"
   ]
  },
  {
   "cell_type": "code",
   "execution_count": 30,
   "metadata": {},
   "outputs": [
    {
     "name": "stdout",
     "output_type": "stream",
     "text": [
      "Training Depth4Width512Network\n",
      "EPOCH 1:\n",
      "TRAIN loss: 0.818, VALIDATION loss: 0.646, accuraccy: 0.759\n",
      "EPOCH 2:\n",
      "TRAIN loss: 0.590, VALIDATION loss: 0.573, accuraccy: 0.784\n",
      "EPOCH 3:\n",
      "TRAIN loss: 0.549, VALIDATION loss: 0.551, accuraccy: 0.801\n",
      "EPOCH 4:\n",
      "TRAIN loss: 0.514, VALIDATION loss: 0.536, accuraccy: 0.810\n",
      "EPOCH 5:\n",
      "TRAIN loss: 0.495, VALIDATION loss: 0.521, accuraccy: 0.814\n",
      "EPOCH 6:\n",
      "TRAIN loss: 0.480, VALIDATION loss: 0.512, accuraccy: 0.821\n",
      "EPOCH 7:\n",
      "TRAIN loss: 0.459, VALIDATION loss: 0.511, accuraccy: 0.822\n",
      "EPOCH 8:\n",
      "TRAIN loss: 0.448, VALIDATION loss: 0.515, accuraccy: 0.822\n",
      "EPOCH 9:\n",
      "TRAIN loss: 0.448, VALIDATION loss: 0.493, accuraccy: 0.830\n",
      "EPOCH 10:\n",
      "TRAIN loss: 0.429, VALIDATION loss: 0.516, accuraccy: 0.815\n",
      "Best accuracy: 0.830\n",
      "CPU times: total: 13min 21s\n",
      "Wall time: 10min 28s\n"
     ]
    }
   ],
   "source": [
    "%%time\n",
    "print(\"Training Depth4Width512Network\")\n",
    "model = Depth4Width512Network()\n",
    "train_model(model, None, None, training_loader, validation_loader)"
   ]
  },
  {
   "cell_type": "code",
   "execution_count": 31,
   "metadata": {},
   "outputs": [
    {
     "name": "stdout",
     "output_type": "stream",
     "text": [
      "Training Depth5Width512Network\n",
      "EPOCH 1:\n",
      "TRAIN loss: 0.773, VALIDATION loss: 0.752, accuraccy: 0.743\n",
      "EPOCH 2:\n",
      "TRAIN loss: 0.596, VALIDATION loss: 0.583, accuraccy: 0.801\n",
      "EPOCH 3:\n",
      "TRAIN loss: 0.547, VALIDATION loss: 0.594, accuraccy: 0.785\n",
      "EPOCH 4:\n",
      "TRAIN loss: 0.517, VALIDATION loss: 0.537, accuraccy: 0.813\n",
      "EPOCH 5:\n",
      "TRAIN loss: 0.493, VALIDATION loss: 0.516, accuraccy: 0.817\n",
      "EPOCH 6:\n",
      "TRAIN loss: 0.477, VALIDATION loss: 0.515, accuraccy: 0.817\n",
      "EPOCH 7:\n",
      "TRAIN loss: 0.460, VALIDATION loss: 0.524, accuraccy: 0.821\n",
      "EPOCH 8:\n",
      "TRAIN loss: 0.448, VALIDATION loss: 0.484, accuraccy: 0.824\n",
      "EPOCH 9:\n",
      "TRAIN loss: 0.437, VALIDATION loss: 0.487, accuraccy: 0.821\n",
      "EPOCH 10:\n",
      "TRAIN loss: 0.424, VALIDATION loss: 0.477, accuraccy: 0.830\n",
      "Best accuracy: 0.830\n",
      "CPU times: total: 16min 24s\n",
      "Wall time: 13min 8s\n"
     ]
    }
   ],
   "source": [
    "%%time\n",
    "print(\"Training Depth5Width512Network\")\n",
    "model = Depth5Width512Network()\n",
    "train_model(model, None, None, training_loader, validation_loader)"
   ]
  },
  {
   "cell_type": "markdown",
   "metadata": {},
   "source": [
    "Neuronová síť o s vratvami o velikosti dimenze 512, nedosahuje lepší výsledku jak ta s 256. Pozoruhodně však zastavuje u přibližné hranice 83 %. To předpokládám je intristický limit těchto dat bez dalších úprav. Nejvíce úsposebným modelem pro tyto data se zde prokázal model se čtyřma vrstvama po 256 neuronech."
   ]
  },
  {
   "cell_type": "markdown",
   "metadata": {},
   "source": [
    "Jelikož je to ovšem model, s nejmenším počtem neuronů na vrstvu, pro úplnost ověřím zda se nebude dařit modelu s ještě menším množství neuronů. Neočekávám ovšem zlepšení oproti 256."
   ]
  },
  {
   "cell_type": "code",
   "execution_count": 32,
   "metadata": {},
   "outputs": [],
   "source": [
    "class Depth2Width128Network(nn.Module):\n",
    "    def __init__(self):\n",
    "        \"\"\"\n",
    "        Constructor - defines all elements with parameters\n",
    "        \"\"\"\n",
    "        super().__init__()\n",
    "        self.fc2 = nn.Linear(1024, 128)\n",
    "        self.fc1 = nn.Linear(128, 10)\n",
    "\n",
    "    def forward(self, x):\n",
    "        \"\"\"\n",
    "        Calculation of the output of the network\n",
    "        \"\"\"\n",
    "        x = F.relu(self.fc2(x))\n",
    "        x = self.fc1(x)\n",
    "        return x\n",
    "\n",
    "class Depth3Width128Network(nn.Module):\n",
    "    def __init__(self):\n",
    "        \"\"\"\n",
    "        Constructor - defines all elements with parameters\n",
    "        \"\"\"\n",
    "        super().__init__()\n",
    "        self.fc3 = nn.Linear(1024, 128)\n",
    "        self.fc2 = nn.Linear(128, 128)\n",
    "        self.fc1 = nn.Linear(128, 10)\n",
    "\n",
    "    def forward(self, x):\n",
    "        \"\"\"\n",
    "        Calculation of the output of the network\n",
    "        \"\"\"\n",
    "        x = F.relu(self.fc3(x))\n",
    "        x = F.relu(self.fc2(x))\n",
    "        x = self.fc1(x)\n",
    "        return x\n",
    "\n",
    "    \n",
    "class Depth4Width128Network(nn.Module):\n",
    "    def __init__(self):\n",
    "        \"\"\"\n",
    "        Constructor - defines all elements with parameters\n",
    "        \"\"\"\n",
    "        super().__init__()\n",
    "        \n",
    "        self.fc4 = nn.Linear(1024, 128)\n",
    "        self.fc3 = nn.Linear(128, 128)\n",
    "        self.fc2 = nn.Linear(128, 128)\n",
    "        self.fc1 = nn.Linear(128, 10)\n",
    "\n",
    "    def forward(self, x):\n",
    "        \"\"\"\n",
    "        Calculation of the output of the network\n",
    "        \"\"\"\n",
    "        \n",
    "        x = F.relu(self.fc4(x))\n",
    "        x = F.relu(self.fc3(x))\n",
    "        x = F.relu(self.fc2(x))\n",
    "        x = self.fc1(x)\n",
    "        return x\n",
    "class Depth5Width128Network(nn.Module):\n",
    "    def __init__(self):\n",
    "        \"\"\"\n",
    "        Constructor - defines all elements with parameters\n",
    "        \"\"\"\n",
    "        super().__init__()\n",
    "        self.fc5 = nn.Linear(1024, 128)\n",
    "        self.fc4 = nn.Linear(128, 128)\n",
    "        self.fc3 = nn.Linear(128, 128)\n",
    "        self.fc2 = nn.Linear(128, 128)\n",
    "        self.fc1 = nn.Linear(128, 10)\n",
    "\n",
    "    def forward(self, x):\n",
    "        \"\"\"\n",
    "        Calculation of the output of the network\n",
    "        \"\"\"\n",
    "        x = F.relu(self.fc5(x))\n",
    "        x = F.relu(self.fc4(x))\n",
    "        x = F.relu(self.fc3(x))\n",
    "        x = F.relu(self.fc2(x))\n",
    "        x = self.fc1(x)\n",
    "        return x\n",
    "class Depth6Width128Network(nn.Module):\n",
    "    def __init__(self):\n",
    "        \"\"\"\n",
    "        Constructor - defines all elements with parameters\n",
    "        \"\"\"\n",
    "        super().__init__()\n",
    "        \n",
    "        self.fc6 = nn.Linear(1024, 128)\n",
    "        self.fc5 = nn.Linear(128, 128)\n",
    "        self.fc4 = nn.Linear(128, 128)\n",
    "\n",
    "        self.fc3 = nn.Linear(128, 128)\n",
    "        self.fc2 = nn.Linear(128, 128)\n",
    "        self.fc1 = nn.Linear(128, 10)\n",
    "\n",
    "    def forward(self, x):\n",
    "        \"\"\"\n",
    "        Calculation of the output of the network\n",
    "        \"\"\"\n",
    "        x = F.relu(self.fc6(x))\n",
    "        x = F.relu(self.fc5(x))\n",
    "        x = F.relu(self.fc4(x))\n",
    "        x = F.relu(self.fc3(x))\n",
    "        x = F.relu(self.fc2(x))\n",
    "        x = self.fc1(x)\n",
    "        return x"
   ]
  },
  {
   "cell_type": "code",
   "execution_count": 33,
   "metadata": {},
   "outputs": [
    {
     "name": "stdout",
     "output_type": "stream",
     "text": [
      "Training Depth2Width128Network\n",
      "EPOCH 1:\n",
      "TRAIN loss: 1.131, VALIDATION loss: 0.713, accuraccy: 0.721\n",
      "EPOCH 2:\n",
      "TRAIN loss: 0.693, VALIDATION loss: 0.705, accuraccy: 0.748\n",
      "EPOCH 3:\n",
      "TRAIN loss: 0.665, VALIDATION loss: 0.658, accuraccy: 0.766\n",
      "EPOCH 4:\n",
      "TRAIN loss: 0.653, VALIDATION loss: 0.654, accuraccy: 0.778\n",
      "EPOCH 5:\n",
      "TRAIN loss: 0.638, VALIDATION loss: 0.739, accuraccy: 0.750\n",
      "EPOCH 6:\n",
      "TRAIN loss: 0.625, VALIDATION loss: 0.742, accuraccy: 0.752\n",
      "EPOCH 7:\n",
      "TRAIN loss: 0.623, VALIDATION loss: 0.662, accuraccy: 0.781\n",
      "EPOCH 8:\n",
      "TRAIN loss: 0.620, VALIDATION loss: 0.612, accuraccy: 0.791\n",
      "EPOCH 9:\n",
      "TRAIN loss: 0.612, VALIDATION loss: 0.658, accuraccy: 0.773\n",
      "EPOCH 10:\n",
      "Best accuracy: 0.791\n",
      "CPU times: total: 2min 47s\n",
      "Wall time: 1min 37s\n"
     ]
    }
   ],
   "source": [
    "%%time\n",
    "print(\"Training Depth2Width128Network\")\n",
    "model = Depth2Width128Network()\n",
    "train_model(model, None, None, training_loader, validation_loader)"
   ]
  },
  {
   "cell_type": "code",
   "execution_count": 34,
   "metadata": {},
   "outputs": [
    {
     "name": "stdout",
     "output_type": "stream",
     "text": [
      "Training Depth3Width128Network\n",
      "EPOCH 1:\n",
      "TRAIN loss: 0.876, VALIDATION loss: 0.638, accuraccy: 0.753\n",
      "EPOCH 2:\n",
      "TRAIN loss: 0.625, VALIDATION loss: 0.597, accuraccy: 0.778\n",
      "EPOCH 3:\n",
      "TRAIN loss: 0.572, VALIDATION loss: 0.556, accuraccy: 0.792\n",
      "EPOCH 4:\n",
      "TRAIN loss: 0.543, VALIDATION loss: 0.547, accuraccy: 0.801\n",
      "EPOCH 5:\n",
      "TRAIN loss: 0.530, VALIDATION loss: 0.585, accuraccy: 0.791\n",
      "EPOCH 6:\n",
      "TRAIN loss: 0.517, VALIDATION loss: 0.564, accuraccy: 0.784\n",
      "EPOCH 7:\n",
      "TRAIN loss: 0.502, VALIDATION loss: 0.523, accuraccy: 0.812\n",
      "EPOCH 8:\n",
      "TRAIN loss: 0.490, VALIDATION loss: 0.532, accuraccy: 0.802\n",
      "EPOCH 9:\n",
      "TRAIN loss: 0.486, VALIDATION loss: 0.525, accuraccy: 0.818\n",
      "EPOCH 10:\n",
      "Best accuracy: 0.818\n",
      "CPU times: total: 3min 11s\n",
      "Wall time: 1min 50s\n"
     ]
    }
   ],
   "source": [
    "%%time\n",
    "print(\"Training Depth3Width128Network\")\n",
    "model = Depth3Width128Network()\n",
    "train_model(model, None, None, training_loader, validation_loader)"
   ]
  },
  {
   "cell_type": "code",
   "execution_count": 35,
   "metadata": {},
   "outputs": [
    {
     "name": "stdout",
     "output_type": "stream",
     "text": [
      "Training Depth4Width128Network\n",
      "EPOCH 1:\n",
      "TRAIN loss: 0.763, VALIDATION loss: 0.636, accuraccy: 0.766\n",
      "EPOCH 2:\n",
      "TRAIN loss: 0.585, VALIDATION loss: 0.521, accuraccy: 0.811\n",
      "EPOCH 3:\n",
      "TRAIN loss: 0.540, VALIDATION loss: 0.531, accuraccy: 0.808\n",
      "EPOCH 4:\n",
      "TRAIN loss: 0.522, VALIDATION loss: 0.543, accuraccy: 0.798\n",
      "EPOCH 5:\n",
      "TRAIN loss: 0.501, VALIDATION loss: 0.526, accuraccy: 0.812\n",
      "EPOCH 6:\n",
      "TRAIN loss: 0.485, VALIDATION loss: 0.537, accuraccy: 0.804\n",
      "EPOCH 7:\n",
      "TRAIN loss: 0.478, VALIDATION loss: 0.503, accuraccy: 0.822\n",
      "EPOCH 8:\n",
      "Best accuracy: 0.822\n",
      "CPU times: total: 2min 57s\n",
      "Wall time: 1min 45s\n"
     ]
    }
   ],
   "source": [
    "%%time\n",
    "print(\"Training Depth4Width128Network\")\n",
    "model = Depth4Width128Network()\n",
    "train_model(model, None, None, training_loader, validation_loader)"
   ]
  },
  {
   "cell_type": "code",
   "execution_count": 36,
   "metadata": {},
   "outputs": [
    {
     "name": "stdout",
     "output_type": "stream",
     "text": [
      "Training Depth5Width128Network\n",
      "EPOCH 1:\n",
      "TRAIN loss: 0.749, VALIDATION loss: 0.590, accuraccy: 0.784\n",
      "EPOCH 2:\n",
      "TRAIN loss: 0.585, VALIDATION loss: 0.560, accuraccy: 0.801\n",
      "EPOCH 3:\n",
      "TRAIN loss: 0.537, VALIDATION loss: 0.521, accuraccy: 0.812\n",
      "EPOCH 4:\n",
      "TRAIN loss: 0.515, VALIDATION loss: 0.522, accuraccy: 0.812\n",
      "EPOCH 5:\n",
      "TRAIN loss: 0.490, VALIDATION loss: 0.513, accuraccy: 0.809\n",
      "EPOCH 6:\n",
      "TRAIN loss: 0.472, VALIDATION loss: 0.494, accuraccy: 0.819\n",
      "EPOCH 7:\n",
      "TRAIN loss: 0.457, VALIDATION loss: 0.519, accuraccy: 0.822\n",
      "EPOCH 8:\n",
      "TRAIN loss: 0.449, VALIDATION loss: 0.506, accuraccy: 0.820\n",
      "EPOCH 9:\n",
      "TRAIN loss: 0.436, VALIDATION loss: 0.485, accuraccy: 0.830\n",
      "EPOCH 10:\n",
      "Best accuracy: 0.830\n",
      "CPU times: total: 4min 12s\n",
      "Wall time: 2min 36s\n"
     ]
    }
   ],
   "source": [
    "%%time\n",
    "print(\"Training Depth5Width128Network\")\n",
    "model = Depth5Width128Network()\n",
    "train_model(model, None, None, training_loader, validation_loader)"
   ]
  },
  {
   "cell_type": "code",
   "execution_count": 37,
   "metadata": {},
   "outputs": [
    {
     "name": "stdout",
     "output_type": "stream",
     "text": [
      "Training Depth6Width128Network\n",
      "EPOCH 1:\n",
      "TRAIN loss: 0.749, VALIDATION loss: 0.632, accuraccy: 0.770\n",
      "EPOCH 2:\n",
      "TRAIN loss: 0.588, VALIDATION loss: 0.630, accuraccy: 0.764\n",
      "EPOCH 3:\n",
      "TRAIN loss: 0.536, VALIDATION loss: 0.552, accuraccy: 0.798\n",
      "EPOCH 4:\n",
      "TRAIN loss: 0.510, VALIDATION loss: 0.590, accuraccy: 0.775\n",
      "EPOCH 5:\n",
      "TRAIN loss: 0.481, VALIDATION loss: 0.508, accuraccy: 0.813\n",
      "EPOCH 6:\n",
      "TRAIN loss: 0.467, VALIDATION loss: 0.514, accuraccy: 0.817\n",
      "EPOCH 7:\n",
      "TRAIN loss: 0.450, VALIDATION loss: 0.516, accuraccy: 0.819\n",
      "EPOCH 8:\n",
      "TRAIN loss: 0.441, VALIDATION loss: 0.507, accuraccy: 0.813\n",
      "EPOCH 9:\n",
      "Best accuracy: 0.819\n",
      "CPU times: total: 4min 5s\n",
      "Wall time: 2min 48s\n"
     ]
    }
   ],
   "source": [
    "%%time\n",
    "print(\"Training Depth6Width128Network\")\n",
    "model = Depth6Width128Network()\n",
    "train_model(model, None, None, training_loader, validation_loader)"
   ]
  },
  {
   "cell_type": "markdown",
   "metadata": {},
   "source": [
    "Síť o šesti vrstev se také dostala na přesnost 0.83 v relativně nízkým čase. Máme tedy vybrány dva přibližně rovnocenný modely, jejichž schopnosti budem taky porovnávat v dalších testech."
   ]
  },
  {
   "cell_type": "markdown",
   "metadata": {},
   "source": [
    "## Normalizace Dat"
   ]
  },
  {
   "cell_type": "markdown",
   "metadata": {},
   "source": [
    "Firstly we normalize DataFrame"
   ]
  },
  {
   "cell_type": "code",
   "execution_count": 38,
   "metadata": {},
   "outputs": [
    {
     "name": "stderr",
     "output_type": "stream",
     "text": [
      "C:\\Users\\alesp\\AppData\\Local\\Temp\\ipykernel_8448\\2151226658.py:4: DeprecationWarning: In a future version, `df.iloc[:, i] = newvals` will attempt to set the values inplace instead of always setting a new array. To retain the old behavior, use either `df[df.columns[i]] = newvals` or, if columns are non-unique, `df.isetitem(i, newvals)`\n",
      "  data_norm.iloc[:, :1024] = data_norm.iloc[:,:1024].apply(normalize, axis=1)\n"
     ]
    },
    {
     "data": {
      "text/html": [
       "<div>\n",
       "<style scoped>\n",
       "    .dataframe tbody tr th:only-of-type {\n",
       "        vertical-align: middle;\n",
       "    }\n",
       "\n",
       "    .dataframe tbody tr th {\n",
       "        vertical-align: top;\n",
       "    }\n",
       "\n",
       "    .dataframe thead th {\n",
       "        text-align: right;\n",
       "    }\n",
       "</style>\n",
       "<table border=\"1\" class=\"dataframe\">\n",
       "  <thead>\n",
       "    <tr style=\"text-align: right;\">\n",
       "      <th></th>\n",
       "      <th>pix1</th>\n",
       "      <th>pix2</th>\n",
       "      <th>pix3</th>\n",
       "      <th>pix4</th>\n",
       "      <th>pix5</th>\n",
       "      <th>pix6</th>\n",
       "      <th>pix7</th>\n",
       "      <th>pix8</th>\n",
       "      <th>pix9</th>\n",
       "      <th>pix10</th>\n",
       "      <th>...</th>\n",
       "      <th>pix1016</th>\n",
       "      <th>pix1017</th>\n",
       "      <th>pix1018</th>\n",
       "      <th>pix1019</th>\n",
       "      <th>pix1020</th>\n",
       "      <th>pix1021</th>\n",
       "      <th>pix1022</th>\n",
       "      <th>pix1023</th>\n",
       "      <th>pix1024</th>\n",
       "      <th>label</th>\n",
       "    </tr>\n",
       "  </thead>\n",
       "  <tbody>\n",
       "    <tr>\n",
       "      <th>0</th>\n",
       "      <td>0.0</td>\n",
       "      <td>0.0</td>\n",
       "      <td>0.0</td>\n",
       "      <td>0.0</td>\n",
       "      <td>0.0</td>\n",
       "      <td>0.0</td>\n",
       "      <td>0.000000</td>\n",
       "      <td>0.000000</td>\n",
       "      <td>0.000000</td>\n",
       "      <td>0.000000</td>\n",
       "      <td>...</td>\n",
       "      <td>0.0</td>\n",
       "      <td>0.0</td>\n",
       "      <td>0.0</td>\n",
       "      <td>0.0</td>\n",
       "      <td>0.0</td>\n",
       "      <td>0.0</td>\n",
       "      <td>0.0</td>\n",
       "      <td>0.0</td>\n",
       "      <td>0.0</td>\n",
       "      <td>7</td>\n",
       "    </tr>\n",
       "    <tr>\n",
       "      <th>1</th>\n",
       "      <td>0.0</td>\n",
       "      <td>0.0</td>\n",
       "      <td>0.0</td>\n",
       "      <td>0.0</td>\n",
       "      <td>0.0</td>\n",
       "      <td>0.0</td>\n",
       "      <td>0.005319</td>\n",
       "      <td>0.005319</td>\n",
       "      <td>0.005319</td>\n",
       "      <td>0.010638</td>\n",
       "      <td>...</td>\n",
       "      <td>0.0</td>\n",
       "      <td>0.0</td>\n",
       "      <td>0.0</td>\n",
       "      <td>0.0</td>\n",
       "      <td>0.0</td>\n",
       "      <td>0.0</td>\n",
       "      <td>0.0</td>\n",
       "      <td>0.0</td>\n",
       "      <td>0.0</td>\n",
       "      <td>0</td>\n",
       "    </tr>\n",
       "    <tr>\n",
       "      <th>2</th>\n",
       "      <td>0.0</td>\n",
       "      <td>0.0</td>\n",
       "      <td>0.0</td>\n",
       "      <td>0.0</td>\n",
       "      <td>0.0</td>\n",
       "      <td>0.0</td>\n",
       "      <td>0.000000</td>\n",
       "      <td>0.000000</td>\n",
       "      <td>0.000000</td>\n",
       "      <td>0.000000</td>\n",
       "      <td>...</td>\n",
       "      <td>0.0</td>\n",
       "      <td>0.0</td>\n",
       "      <td>0.0</td>\n",
       "      <td>0.0</td>\n",
       "      <td>0.0</td>\n",
       "      <td>0.0</td>\n",
       "      <td>0.0</td>\n",
       "      <td>0.0</td>\n",
       "      <td>0.0</td>\n",
       "      <td>6</td>\n",
       "    </tr>\n",
       "    <tr>\n",
       "      <th>3</th>\n",
       "      <td>0.0</td>\n",
       "      <td>0.0</td>\n",
       "      <td>0.0</td>\n",
       "      <td>0.0</td>\n",
       "      <td>0.0</td>\n",
       "      <td>0.0</td>\n",
       "      <td>0.000000</td>\n",
       "      <td>0.000000</td>\n",
       "      <td>0.000000</td>\n",
       "      <td>0.000000</td>\n",
       "      <td>...</td>\n",
       "      <td>0.0</td>\n",
       "      <td>0.0</td>\n",
       "      <td>0.0</td>\n",
       "      <td>0.0</td>\n",
       "      <td>0.0</td>\n",
       "      <td>0.0</td>\n",
       "      <td>0.0</td>\n",
       "      <td>0.0</td>\n",
       "      <td>0.0</td>\n",
       "      <td>3</td>\n",
       "    </tr>\n",
       "    <tr>\n",
       "      <th>4</th>\n",
       "      <td>0.0</td>\n",
       "      <td>0.0</td>\n",
       "      <td>0.0</td>\n",
       "      <td>0.0</td>\n",
       "      <td>0.0</td>\n",
       "      <td>0.0</td>\n",
       "      <td>0.000000</td>\n",
       "      <td>0.000000</td>\n",
       "      <td>0.000000</td>\n",
       "      <td>0.000000</td>\n",
       "      <td>...</td>\n",
       "      <td>0.0</td>\n",
       "      <td>0.0</td>\n",
       "      <td>0.0</td>\n",
       "      <td>0.0</td>\n",
       "      <td>0.0</td>\n",
       "      <td>0.0</td>\n",
       "      <td>0.0</td>\n",
       "      <td>0.0</td>\n",
       "      <td>0.0</td>\n",
       "      <td>3</td>\n",
       "    </tr>\n",
       "  </tbody>\n",
       "</table>\n",
       "<p>5 rows × 1025 columns</p>\n",
       "</div>"
      ],
      "text/plain": [
       "   pix1  pix2  pix3  pix4  pix5  pix6      pix7      pix8      pix9     pix10  \\\n",
       "0   0.0   0.0   0.0   0.0   0.0   0.0  0.000000  0.000000  0.000000  0.000000   \n",
       "1   0.0   0.0   0.0   0.0   0.0   0.0  0.005319  0.005319  0.005319  0.010638   \n",
       "2   0.0   0.0   0.0   0.0   0.0   0.0  0.000000  0.000000  0.000000  0.000000   \n",
       "3   0.0   0.0   0.0   0.0   0.0   0.0  0.000000  0.000000  0.000000  0.000000   \n",
       "4   0.0   0.0   0.0   0.0   0.0   0.0  0.000000  0.000000  0.000000  0.000000   \n",
       "\n",
       "   ...  pix1016  pix1017  pix1018  pix1019  pix1020  pix1021  pix1022  \\\n",
       "0  ...      0.0      0.0      0.0      0.0      0.0      0.0      0.0   \n",
       "1  ...      0.0      0.0      0.0      0.0      0.0      0.0      0.0   \n",
       "2  ...      0.0      0.0      0.0      0.0      0.0      0.0      0.0   \n",
       "3  ...      0.0      0.0      0.0      0.0      0.0      0.0      0.0   \n",
       "4  ...      0.0      0.0      0.0      0.0      0.0      0.0      0.0   \n",
       "\n",
       "   pix1023  pix1024  label  \n",
       "0      0.0      0.0      7  \n",
       "1      0.0      0.0      0  \n",
       "2      0.0      0.0      6  \n",
       "3      0.0      0.0      3  \n",
       "4      0.0      0.0      3  \n",
       "\n",
       "[5 rows x 1025 columns]"
      ]
     },
     "metadata": {},
     "output_type": "display_data"
    },
    {
     "name": "stdout",
     "output_type": "stream",
     "text": [
      "9.0\n",
      "0.0\n"
     ]
    }
   ],
   "source": [
    "def normalize(row: pd.Series):\n",
    "    return (row - row.min()) / (row.max() - row.min())\n",
    "data_norm = df.copy()\n",
    "data_norm.iloc[:, :1024] = data_norm.iloc[:,:1024].apply(normalize, axis=1)\n",
    "display(data_norm.head())\n",
    "print(data_norm.max().max())\n",
    "print(data_norm.min().min())"
   ]
  },
  {
   "cell_type": "markdown",
   "metadata": {},
   "source": [
    "Then we put it into pytorch dataset"
   ]
  },
  {
   "cell_type": "code",
   "execution_count": 39,
   "metadata": {},
   "outputs": [],
   "source": [
    "source_images = data_norm.iloc[:, :1024].to_numpy()\n",
    "source_labels = data_norm.label.to_numpy()\n",
    "dataset_norm = torch.utils.data.TensorDataset(torch.tensor(source_images, dtype = torch.float), torch.tensor(source_labels, dtype = torch.long))"
   ]
  },
  {
   "cell_type": "markdown",
   "metadata": {},
   "source": [
    "Now we split it and create DataLoaders."
   ]
  },
  {
   "cell_type": "code",
   "execution_count": 40,
   "metadata": {},
   "outputs": [],
   "source": [
    "train_norm_data, val_norm_data, test_norm_data = torch.utils.data.random_split(dataset_norm, split, generator1)\n",
    "training_norm_loader = torch.utils.data.DataLoader(train_norm_data, batch_size=32, shuffle=True)\n",
    "validation_norm_loader = torch.utils.data.DataLoader(val_norm_data, batch_size=128, shuffle=False)"
   ]
  },
  {
   "cell_type": "markdown",
   "metadata": {},
   "source": [
    "Pro kompletnost ještě implementuju StandardScaler"
   ]
  },
  {
   "cell_type": "code",
   "execution_count": 41,
   "metadata": {},
   "outputs": [
    {
     "data": {
      "text/html": [
       "<div>\n",
       "<style scoped>\n",
       "    .dataframe tbody tr th:only-of-type {\n",
       "        vertical-align: middle;\n",
       "    }\n",
       "\n",
       "    .dataframe tbody tr th {\n",
       "        vertical-align: top;\n",
       "    }\n",
       "\n",
       "    .dataframe thead th {\n",
       "        text-align: right;\n",
       "    }\n",
       "</style>\n",
       "<table border=\"1\" class=\"dataframe\">\n",
       "  <thead>\n",
       "    <tr style=\"text-align: right;\">\n",
       "      <th></th>\n",
       "      <th>pix1</th>\n",
       "      <th>pix2</th>\n",
       "      <th>pix3</th>\n",
       "      <th>pix4</th>\n",
       "      <th>pix5</th>\n",
       "      <th>pix6</th>\n",
       "      <th>pix7</th>\n",
       "      <th>pix8</th>\n",
       "      <th>pix9</th>\n",
       "      <th>pix10</th>\n",
       "      <th>...</th>\n",
       "      <th>pix1016</th>\n",
       "      <th>pix1017</th>\n",
       "      <th>pix1018</th>\n",
       "      <th>pix1019</th>\n",
       "      <th>pix1020</th>\n",
       "      <th>pix1021</th>\n",
       "      <th>pix1022</th>\n",
       "      <th>pix1023</th>\n",
       "      <th>pix1024</th>\n",
       "      <th>label</th>\n",
       "    </tr>\n",
       "  </thead>\n",
       "  <tbody>\n",
       "    <tr>\n",
       "      <th>0</th>\n",
       "      <td>0.084707</td>\n",
       "      <td>0.084707</td>\n",
       "      <td>0.084707</td>\n",
       "      <td>0.084707</td>\n",
       "      <td>0.084693</td>\n",
       "      <td>0.084693</td>\n",
       "      <td>0.084667</td>\n",
       "      <td>0.084568</td>\n",
       "      <td>0.078846</td>\n",
       "      <td>0.066326</td>\n",
       "      <td>...</td>\n",
       "      <td>0.049110</td>\n",
       "      <td>0.050245</td>\n",
       "      <td>0.055840</td>\n",
       "      <td>0.076618</td>\n",
       "      <td>0.084267</td>\n",
       "      <td>0.084631</td>\n",
       "      <td>0.084690</td>\n",
       "      <td>0.084707</td>\n",
       "      <td>0.084707</td>\n",
       "      <td>7</td>\n",
       "    </tr>\n",
       "    <tr>\n",
       "      <th>1</th>\n",
       "      <td>2.093281</td>\n",
       "      <td>2.093281</td>\n",
       "      <td>2.093281</td>\n",
       "      <td>2.093281</td>\n",
       "      <td>2.093225</td>\n",
       "      <td>2.093225</td>\n",
       "      <td>2.762639</td>\n",
       "      <td>2.762433</td>\n",
       "      <td>2.646666</td>\n",
       "      <td>2.901649</td>\n",
       "      <td>...</td>\n",
       "      <td>1.518461</td>\n",
       "      <td>1.521343</td>\n",
       "      <td>1.558993</td>\n",
       "      <td>1.966749</td>\n",
       "      <td>2.091770</td>\n",
       "      <td>2.093096</td>\n",
       "      <td>2.093158</td>\n",
       "      <td>2.093281</td>\n",
       "      <td>2.093281</td>\n",
       "      <td>0</td>\n",
       "    </tr>\n",
       "    <tr>\n",
       "      <th>2</th>\n",
       "      <td>-0.584818</td>\n",
       "      <td>-0.584818</td>\n",
       "      <td>-0.584818</td>\n",
       "      <td>-0.584818</td>\n",
       "      <td>-0.584817</td>\n",
       "      <td>-0.584817</td>\n",
       "      <td>-0.584826</td>\n",
       "      <td>-0.584898</td>\n",
       "      <td>-0.563109</td>\n",
       "      <td>-0.500738</td>\n",
       "      <td>...</td>\n",
       "      <td>-0.440674</td>\n",
       "      <td>-0.440121</td>\n",
       "      <td>-0.445210</td>\n",
       "      <td>-0.553426</td>\n",
       "      <td>-0.584900</td>\n",
       "      <td>-0.584858</td>\n",
       "      <td>-0.584799</td>\n",
       "      <td>-0.584818</td>\n",
       "      <td>-0.584818</td>\n",
       "      <td>6</td>\n",
       "    </tr>\n",
       "    <tr>\n",
       "      <th>3</th>\n",
       "      <td>0.754231</td>\n",
       "      <td>0.754231</td>\n",
       "      <td>0.754231</td>\n",
       "      <td>0.754231</td>\n",
       "      <td>0.754204</td>\n",
       "      <td>0.754204</td>\n",
       "      <td>0.754160</td>\n",
       "      <td>0.754034</td>\n",
       "      <td>0.720801</td>\n",
       "      <td>0.633391</td>\n",
       "      <td>...</td>\n",
       "      <td>0.538894</td>\n",
       "      <td>0.540611</td>\n",
       "      <td>0.556891</td>\n",
       "      <td>0.706662</td>\n",
       "      <td>0.753435</td>\n",
       "      <td>0.754119</td>\n",
       "      <td>0.754179</td>\n",
       "      <td>0.754231</td>\n",
       "      <td>0.754231</td>\n",
       "      <td>3</td>\n",
       "    </tr>\n",
       "    <tr>\n",
       "      <th>4</th>\n",
       "      <td>-0.584818</td>\n",
       "      <td>-0.584818</td>\n",
       "      <td>-0.584818</td>\n",
       "      <td>-0.584818</td>\n",
       "      <td>-0.584817</td>\n",
       "      <td>-0.584817</td>\n",
       "      <td>-0.584826</td>\n",
       "      <td>-0.584898</td>\n",
       "      <td>-0.563109</td>\n",
       "      <td>-0.500738</td>\n",
       "      <td>...</td>\n",
       "      <td>-0.440674</td>\n",
       "      <td>-0.440121</td>\n",
       "      <td>-0.445210</td>\n",
       "      <td>-0.553426</td>\n",
       "      <td>-0.584900</td>\n",
       "      <td>-0.584858</td>\n",
       "      <td>-0.584799</td>\n",
       "      <td>-0.584818</td>\n",
       "      <td>-0.584818</td>\n",
       "      <td>3</td>\n",
       "    </tr>\n",
       "  </tbody>\n",
       "</table>\n",
       "<p>5 rows × 1025 columns</p>\n",
       "</div>"
      ],
      "text/plain": [
       "       pix1      pix2      pix3      pix4      pix5      pix6      pix7  \\\n",
       "0  0.084707  0.084707  0.084707  0.084707  0.084693  0.084693  0.084667   \n",
       "1  2.093281  2.093281  2.093281  2.093281  2.093225  2.093225  2.762639   \n",
       "2 -0.584818 -0.584818 -0.584818 -0.584818 -0.584817 -0.584817 -0.584826   \n",
       "3  0.754231  0.754231  0.754231  0.754231  0.754204  0.754204  0.754160   \n",
       "4 -0.584818 -0.584818 -0.584818 -0.584818 -0.584817 -0.584817 -0.584826   \n",
       "\n",
       "       pix8      pix9     pix10  ...   pix1016   pix1017   pix1018   pix1019  \\\n",
       "0  0.084568  0.078846  0.066326  ...  0.049110  0.050245  0.055840  0.076618   \n",
       "1  2.762433  2.646666  2.901649  ...  1.518461  1.521343  1.558993  1.966749   \n",
       "2 -0.584898 -0.563109 -0.500738  ... -0.440674 -0.440121 -0.445210 -0.553426   \n",
       "3  0.754034  0.720801  0.633391  ...  0.538894  0.540611  0.556891  0.706662   \n",
       "4 -0.584898 -0.563109 -0.500738  ... -0.440674 -0.440121 -0.445210 -0.553426   \n",
       "\n",
       "    pix1020   pix1021   pix1022   pix1023   pix1024  label  \n",
       "0  0.084267  0.084631  0.084690  0.084707  0.084707      7  \n",
       "1  2.091770  2.093096  2.093158  2.093281  2.093281      0  \n",
       "2 -0.584900 -0.584858 -0.584799 -0.584818 -0.584818      6  \n",
       "3  0.753435  0.754119  0.754179  0.754231  0.754231      3  \n",
       "4 -0.584900 -0.584858 -0.584799 -0.584818 -0.584818      3  \n",
       "\n",
       "[5 rows x 1025 columns]"
      ]
     },
     "execution_count": 41,
     "metadata": {},
     "output_type": "execute_result"
    }
   ],
   "source": [
    "from sklearn.preprocessing import StandardScaler\n",
    "\n",
    "data_scaler = df.copy()\n",
    "scaler = StandardScaler()\n",
    "data_scaler.iloc[:,:1024] = scaler.fit_transform(data_scaler.iloc[:,:1024])\n",
    "data_scaler.head()"
   ]
  },
  {
   "cell_type": "code",
   "execution_count": 42,
   "metadata": {},
   "outputs": [],
   "source": [
    "source_images = data_scaler.iloc[:, :1024].to_numpy()\n",
    "source_labels = data_scaler.label.to_numpy()\n",
    "dataset_scaler = torch.utils.data.TensorDataset(torch.tensor(source_images, dtype = torch.float), torch.tensor(source_labels, dtype = torch.long))\n",
    "train_scaler_data, val_scaler_data, test_scaler_data = torch.utils.data.random_split(dataset_scaler, split, generator1)\n",
    "training_scaler_loader = torch.utils.data.DataLoader(train_scaler_data, batch_size=32, shuffle=True)\n",
    "validation_scaler_loader = torch.utils.data.DataLoader(val_scaler_data, batch_size=128, shuffle=False)"
   ]
  },
  {
   "cell_type": "markdown",
   "metadata": {},
   "source": [
    "Máme načtený všechny Loadery, teď je můžem porovnat na modelech, které jsme si vybrali v předchozích testech. V testech očekávám, že nejlépe si povedou data normalizované podle řádků, hůře si povede nenormalizovaný obrazek a neočekávám dobré výsledky od dat, na které byl využit StandardScaler"
   ]
  },
  {
   "cell_type": "code",
   "execution_count": 43,
   "metadata": {},
   "outputs": [
    {
     "name": "stdout",
     "output_type": "stream",
     "text": [
      "Training Depth4Width256Network without Normalization\n",
      "EPOCH 1:\n",
      "TRAIN loss: 0.769, VALIDATION loss: 0.618, accuraccy: 0.779\n",
      "EPOCH 2:\n",
      "TRAIN loss: 0.594, VALIDATION loss: 0.623, accuraccy: 0.771\n",
      "EPOCH 3:\n",
      "TRAIN loss: 0.545, VALIDATION loss: 0.525, accuraccy: 0.812\n",
      "EPOCH 4:\n",
      "TRAIN loss: 0.517, VALIDATION loss: 0.640, accuraccy: 0.771\n",
      "EPOCH 5:\n",
      "TRAIN loss: 0.504, VALIDATION loss: 0.526, accuraccy: 0.809\n",
      "EPOCH 6:\n",
      "TRAIN loss: 0.481, VALIDATION loss: 0.506, accuraccy: 0.816\n",
      "EPOCH 7:\n",
      "TRAIN loss: 0.463, VALIDATION loss: 0.521, accuraccy: 0.820\n",
      "EPOCH 8:\n",
      "TRAIN loss: 0.454, VALIDATION loss: 0.502, accuraccy: 0.822\n",
      "EPOCH 9:\n",
      "TRAIN loss: 0.446, VALIDATION loss: 0.512, accuraccy: 0.828\n",
      "EPOCH 10:\n",
      "Best accuracy: 0.828\n",
      "CPU times: total: 5min 33s\n",
      "Wall time: 3min 3s\n"
     ]
    }
   ],
   "source": [
    "%%time\n",
    "print(\"Training Depth4Width256Network without Normalization\")\n",
    "model = Depth4Width256Network()\n",
    "train_model(model, None, None, training_loader, validation_loader)"
   ]
  },
  {
   "cell_type": "code",
   "execution_count": 44,
   "metadata": {},
   "outputs": [
    {
     "name": "stdout",
     "output_type": "stream",
     "text": [
      "Training Depth4Width256Network with Normalization\n",
      "EPOCH 1:\n",
      "TRAIN loss: 0.705, VALIDATION loss: 0.552, accuraccy: 0.796\n",
      "EPOCH 2:\n",
      "TRAIN loss: 0.518, VALIDATION loss: 0.502, accuraccy: 0.811\n",
      "EPOCH 3:\n",
      "TRAIN loss: 0.458, VALIDATION loss: 0.491, accuraccy: 0.817\n",
      "EPOCH 4:\n",
      "TRAIN loss: 0.429, VALIDATION loss: 0.444, accuraccy: 0.835\n",
      "EPOCH 5:\n",
      "TRAIN loss: 0.399, VALIDATION loss: 0.437, accuraccy: 0.833\n",
      "EPOCH 6:\n",
      "TRAIN loss: 0.379, VALIDATION loss: 0.434, accuraccy: 0.841\n",
      "EPOCH 7:\n",
      "TRAIN loss: 0.361, VALIDATION loss: 0.488, accuraccy: 0.818\n",
      "EPOCH 8:\n",
      "TRAIN loss: 0.347, VALIDATION loss: 0.427, accuraccy: 0.842\n",
      "EPOCH 9:\n",
      "TRAIN loss: 0.332, VALIDATION loss: 0.453, accuraccy: 0.839\n",
      "EPOCH 10:\n",
      "TRAIN loss: 0.319, VALIDATION loss: 0.420, accuraccy: 0.848\n",
      "Best accuracy: 0.848\n",
      "CPU times: total: 5min 40s\n",
      "Wall time: 3min 6s\n"
     ]
    }
   ],
   "source": [
    "%%time\n",
    "print(\"Training Depth4Width256Network with Normalization\")\n",
    "model = Depth4Width256Network()\n",
    "train_model(model, None, None, training_norm_loader, validation_norm_loader)"
   ]
  },
  {
   "cell_type": "code",
   "execution_count": 45,
   "metadata": {},
   "outputs": [
    {
     "name": "stdout",
     "output_type": "stream",
     "text": [
      "Training Depth4Width256Network with StandardScaler\n",
      "EPOCH 1:\n",
      "TRAIN loss: 0.671, VALIDATION loss: 0.582, accuraccy: 0.789\n",
      "EPOCH 2:\n",
      "TRAIN loss: 0.506, VALIDATION loss: 0.538, accuraccy: 0.800\n",
      "EPOCH 3:\n",
      "TRAIN loss: 0.460, VALIDATION loss: 0.483, accuraccy: 0.823\n",
      "EPOCH 4:\n",
      "TRAIN loss: 0.415, VALIDATION loss: 0.501, accuraccy: 0.826\n",
      "EPOCH 5:\n",
      "TRAIN loss: 0.392, VALIDATION loss: 0.484, accuraccy: 0.831\n",
      "EPOCH 6:\n",
      "TRAIN loss: 0.368, VALIDATION loss: 0.491, accuraccy: 0.832\n",
      "EPOCH 7:\n",
      "TRAIN loss: 0.350, VALIDATION loss: 0.469, accuraccy: 0.841\n",
      "EPOCH 8:\n",
      "TRAIN loss: 0.333, VALIDATION loss: 0.481, accuraccy: 0.834\n",
      "EPOCH 9:\n",
      "TRAIN loss: 0.317, VALIDATION loss: 0.500, accuraccy: 0.832\n",
      "EPOCH 10:\n",
      "TRAIN loss: 0.300, VALIDATION loss: 0.486, accuraccy: 0.839\n",
      "Best accuracy: 0.841\n",
      "CPU times: total: 5min 30s\n",
      "Wall time: 3min\n"
     ]
    }
   ],
   "source": [
    "%%time\n",
    "print(\"Training Depth4Width256Network with StandardScaler\")\n",
    "model = Depth4Width256Network()\n",
    "train_model(model, None, None, training_scaler_loader, validation_scaler_loader)"
   ]
  },
  {
   "cell_type": "markdown",
   "metadata": {},
   "source": [
    "Model používající normalizované data vykazuje zásadní zlepšení v přesnosti, očividně v tomhle případě normalizace pomohla."
   ]
  },
  {
   "cell_type": "code",
   "execution_count": 46,
   "metadata": {},
   "outputs": [
    {
     "name": "stdout",
     "output_type": "stream",
     "text": [
      "Training Depth6Width128Network without Normalization\n",
      "EPOCH 1:\n",
      "TRAIN loss: 0.751, VALIDATION loss: 0.567, accuraccy: 0.801\n",
      "EPOCH 2:\n",
      "TRAIN loss: 0.583, VALIDATION loss: 0.586, accuraccy: 0.800\n",
      "EPOCH 3:\n",
      "TRAIN loss: 0.545, VALIDATION loss: 0.501, accuraccy: 0.814\n",
      "EPOCH 4:\n",
      "TRAIN loss: 0.506, VALIDATION loss: 0.545, accuraccy: 0.805\n",
      "EPOCH 5:\n",
      "TRAIN loss: 0.485, VALIDATION loss: 0.519, accuraccy: 0.810\n",
      "EPOCH 6:\n",
      "Best accuracy: 0.814\n",
      "CPU times: total: 2min 36s\n",
      "Wall time: 1min 25s\n"
     ]
    }
   ],
   "source": [
    "%%time\n",
    "print(\"Training Depth6Width128Network without Normalization\")\n",
    "model = Depth6Width128Network()\n",
    "train_model(model, None, None, training_loader, validation_loader)"
   ]
  },
  {
   "cell_type": "code",
   "execution_count": 47,
   "metadata": {},
   "outputs": [
    {
     "name": "stdout",
     "output_type": "stream",
     "text": [
      "Training Depth6Width128Network with Normalization\n",
      "EPOCH 1:\n",
      "TRAIN loss: 0.809, VALIDATION loss: 0.640, accuraccy: 0.768\n",
      "EPOCH 2:\n",
      "TRAIN loss: 0.563, VALIDATION loss: 0.536, accuraccy: 0.803\n",
      "EPOCH 3:\n",
      "TRAIN loss: 0.504, VALIDATION loss: 0.485, accuraccy: 0.825\n",
      "EPOCH 4:\n",
      "TRAIN loss: 0.467, VALIDATION loss: 0.514, accuraccy: 0.804\n",
      "EPOCH 5:\n",
      "TRAIN loss: 0.442, VALIDATION loss: 0.443, accuraccy: 0.832\n",
      "EPOCH 6:\n",
      "TRAIN loss: 0.416, VALIDATION loss: 0.462, accuraccy: 0.830\n",
      "EPOCH 7:\n",
      "TRAIN loss: 0.403, VALIDATION loss: 0.463, accuraccy: 0.831\n",
      "EPOCH 8:\n",
      "TRAIN loss: 0.388, VALIDATION loss: 0.445, accuraccy: 0.839\n",
      "EPOCH 9:\n",
      "TRAIN loss: 0.374, VALIDATION loss: 0.440, accuraccy: 0.842\n",
      "EPOCH 10:\n",
      "Best accuracy: 0.842\n",
      "CPU times: total: 4min 27s\n",
      "Wall time: 2min 24s\n"
     ]
    }
   ],
   "source": [
    "%%time\n",
    "print(\"Training Depth6Width128Network with Normalization\")\n",
    "model = Depth6Width128Network()\n",
    "train_model(model, None, None, training_norm_loader, validation_norm_loader)"
   ]
  },
  {
   "cell_type": "code",
   "execution_count": 48,
   "metadata": {},
   "outputs": [
    {
     "name": "stdout",
     "output_type": "stream",
     "text": [
      "Training Depth6Width128Network with StandardScaler\n",
      "EPOCH 1:\n",
      "TRAIN loss: 0.738, VALIDATION loss: 0.599, accuraccy: 0.784\n",
      "EPOCH 2:\n",
      "TRAIN loss: 0.540, VALIDATION loss: 0.532, accuraccy: 0.806\n",
      "EPOCH 3:\n",
      "TRAIN loss: 0.482, VALIDATION loss: 0.516, accuraccy: 0.813\n",
      "EPOCH 4:\n",
      "TRAIN loss: 0.447, VALIDATION loss: 0.496, accuraccy: 0.822\n",
      "EPOCH 5:\n",
      "TRAIN loss: 0.418, VALIDATION loss: 0.507, accuraccy: 0.815\n",
      "EPOCH 6:\n",
      "TRAIN loss: 0.394, VALIDATION loss: 0.498, accuraccy: 0.818\n",
      "EPOCH 7:\n",
      "TRAIN loss: 0.373, VALIDATION loss: 0.489, accuraccy: 0.825\n",
      "EPOCH 8:\n",
      "TRAIN loss: 0.356, VALIDATION loss: 0.490, accuraccy: 0.826\n",
      "EPOCH 9:\n",
      "TRAIN loss: 0.345, VALIDATION loss: 0.499, accuraccy: 0.830\n",
      "EPOCH 10:\n",
      "TRAIN loss: 0.326, VALIDATION loss: 0.482, accuraccy: 0.835\n",
      "Best accuracy: 0.835\n",
      "CPU times: total: 4min 22s\n",
      "Wall time: 2min 23s\n"
     ]
    }
   ],
   "source": [
    "%%time\n",
    "print(\"Training Depth6Width128Network with StandardScaler\")\n",
    "model = Depth6Width128Network()\n",
    "train_model(model, None, None, training_scaler_loader, validation_scaler_loader)"
   ]
  },
  {
   "cell_type": "markdown",
   "metadata": {},
   "source": [
    "Nejlepší výsledky má D4W256 na datech, na kterých byla nanesena Normalizace. Obecně pořadí podle přesnosti, co se týče normalizace jsou Normalizace > StandardScaler  > Nic"
   ]
  },
  {
   "cell_type": "markdown",
   "metadata": {},
   "source": [
    "## Regularizace"
   ]
  },
  {
   "cell_type": "markdown",
   "metadata": {},
   "source": [
    "V této části budu používat již prokázaně lepší D4W256 model"
   ]
  },
  {
   "cell_type": "markdown",
   "metadata": {},
   "source": [
    "definuji si funkci s l1 regularizaci."
   ]
  },
  {
   "cell_type": "code",
   "execution_count": 49,
   "metadata": {},
   "outputs": [],
   "source": [
    "def train_one_epoch_l1(model: Depth4Width256Network, loss_fn, optimizer, training_loader, l_alpha=0.05):\n",
    "    running_cum_loss = 0.\n",
    "\n",
    "    for data in iter(training_loader):\n",
    "        # Every data instance is an input + label pair\n",
    "        inputs, labels = data\n",
    "\n",
    "        # Zero your gradients for every batch!\n",
    "        optimizer.zero_grad()\n",
    "\n",
    "        # Make predictions for this batch\n",
    "        outputs = model(inputs)\n",
    "        \n",
    "        l_reg = 0\n",
    "        l_reg += torch.linalg.vector_norm(model.fc3.weight.flatten(),1)\n",
    "        l_reg += torch.linalg.vector_norm(model.fc4.weight.flatten(),1)\n",
    "\n",
    "\n",
    "\n",
    "        # Compute the loss and its gradients\n",
    "        loss = loss_fn(outputs, labels) + l_reg * l_alpha\n",
    "        \n",
    "        # Backpropagation\n",
    "        loss.backward()\n",
    "\n",
    "        # Adjust learning weights\n",
    "        optimizer.step()\n",
    "\n",
    "        # Gather data and report\n",
    "        last_mean_loss = loss.item()\n",
    "        running_cum_loss += last_mean_loss * inputs.shape[0]\n",
    "            \n",
    "    # Return of the average over the whole training set\n",
    "    return running_cum_loss / len(train_data)"
   ]
  },
  {
   "cell_type": "markdown",
   "metadata": {},
   "source": [
    "Trénovací funkce s l2 regularizací."
   ]
  },
  {
   "cell_type": "code",
   "execution_count": 50,
   "metadata": {},
   "outputs": [],
   "source": [
    "def train_one_epoch_l2(model: Depth4Width256Network, loss_fn, optimizer, training_loader, l_alpha=0.05):\n",
    "    running_cum_loss = 0.\n",
    "\n",
    "    for data in iter(training_loader):\n",
    "        # Every data instance is an input + label pair\n",
    "        inputs, labels = data\n",
    "\n",
    "        # Zero your gradients for every batch!\n",
    "        optimizer.zero_grad()\n",
    "\n",
    "        # Make predictions for this batch\n",
    "        outputs = model(inputs)\n",
    "        \n",
    "        l_reg = 0\n",
    "        l_reg += torch.dot(model.fc3.weight.flatten(), model.fc3.weight.flatten())\n",
    "        l_reg += torch.dot(model.fc4.weight.flatten(), model.fc4.weight.flatten())\n",
    "\n",
    "\n",
    "\n",
    "        # Compute the loss and its gradients\n",
    "        loss = loss_fn(outputs, labels) + l_reg * l_alpha\n",
    "        \n",
    "        # Backpropagation\n",
    "        loss.backward()\n",
    "\n",
    "        # Adjust learning weights\n",
    "        optimizer.step()\n",
    "\n",
    "        # Gather data and report\n",
    "        last_mean_loss = loss.item()\n",
    "        running_cum_loss += last_mean_loss * inputs.shape[0]\n",
    "            \n",
    "    # Return of the average over the whole training set\n",
    "    return running_cum_loss / len(train_data)"
   ]
  },
  {
   "cell_type": "markdown",
   "metadata": {},
   "source": [
    "Předefinuji následně model pro trénování tak, aby byl schopný vzít volitelnou epoch funkci."
   ]
  },
  {
   "cell_type": "code",
   "execution_count": 134,
   "metadata": {},
   "outputs": [],
   "source": [
    "def train_model(model, loss_fn, optimizer, training_loader, validation_loader, epochs=10, train_fn=train_one_epoch, l_alpha=0.05, length=len(val_data)):\n",
    "    # here to avoid the need to specify default loss and optimizer\n",
    "    # every single time\n",
    "    if loss_fn is None:\n",
    "        loss_fn = nn.CrossEntropyLoss()\n",
    "    if optimizer is None:\n",
    "        optimizer = torch.optim.Adam(model.parameters())\n",
    "    \n",
    "    # if the vloss somehow ends up being higher during the training,\n",
    "    # the model shouldn't be trained at all\n",
    "    best_accuraccy = 0\n",
    "    non_improvements = 0\n",
    "    MAX_NON = 3\n",
    "    for epoch in range(epochs):\n",
    "        print('EPOCH {}:'.format(epoch + 1))\n",
    "        model.train(True)\n",
    "        # One training step\n",
    "        avg_loss = train_fn(model, loss_fn, optimizer, training_loader, l_alpha)\n",
    "        model.train(False)\n",
    "        # Validation performance\n",
    "        running_cum_vloss = 0.0\n",
    "        vcorrect = 0\n",
    "        for i, vdata in enumerate(validation_loader):\n",
    "            vinputs, vlabels = vdata\n",
    "            with torch.no_grad():\n",
    "                voutputs = model(vinputs)\n",
    "                vloss = loss_fn(voutputs, vlabels)\n",
    "            running_cum_vloss += vloss * vinputs.shape[0]\n",
    "            # count the correctly classified samoples\n",
    "            vcorrect += (voutputs.argmax(1) == vlabels).float().sum()\n",
    "        # Get average loss and accuraccy\n",
    "        avg_vloss = running_cum_vloss / length # len(val_data) used, because all will have same length\n",
    "        vacc = vcorrect / length\n",
    "        if vacc > best_accuraccy:\n",
    "            best_accuraccy = vacc\n",
    "        else:\n",
    "            non_improvements += 1\n",
    "            if (non_improvements > MAX_NON):\n",
    "                break\n",
    "        \n",
    "        print(f\"TRAIN loss: {avg_loss:.3f}, VALIDATION loss: {avg_vloss:.3f}, accuraccy: {vacc:.3f}\")\n",
    "    print(f\"Best accuracy: {best_accuraccy:.3f}\")"
   ]
  },
  {
   "cell_type": "markdown",
   "metadata": {},
   "source": [
    "Funkce jsou dodefinovaný a začinám tedy zkoušet aplikovat regulaci.\\\n",
    "Začínáme s L1 regulací."
   ]
  },
  {
   "cell_type": "code",
   "execution_count": 52,
   "metadata": {
    "scrolled": true
   },
   "outputs": [
    {
     "name": "stdout",
     "output_type": "stream",
     "text": [
      "Model with l1 reg 0.1\n",
      "EPOCH 1:\n",
      "TRAIN loss: 13.266, VALIDATION loss: 2.302, accuraccy: 0.099\n",
      "EPOCH 2:\n",
      "TRAIN loss: 6.334, VALIDATION loss: 2.303, accuraccy: 0.101\n",
      "EPOCH 3:\n",
      "TRAIN loss: 6.334, VALIDATION loss: 2.303, accuraccy: 0.096\n",
      "EPOCH 4:\n",
      "TRAIN loss: 6.334, VALIDATION loss: 2.302, accuraccy: 0.095\n",
      "EPOCH 5:\n",
      "TRAIN loss: 6.334, VALIDATION loss: 2.303, accuraccy: 0.101\n",
      "EPOCH 6:\n",
      "Best accuracy: 0.101\n",
      "Model with l1 reg 0.01\n",
      "EPOCH 1:\n",
      "TRAIN loss: 2.671, VALIDATION loss: 1.248, accuraccy: 0.480\n",
      "EPOCH 2:\n",
      "TRAIN loss: 1.806, VALIDATION loss: 1.166, accuraccy: 0.531\n",
      "EPOCH 3:\n",
      "TRAIN loss: 1.741, VALIDATION loss: 1.176, accuraccy: 0.541\n",
      "EPOCH 4:\n",
      "TRAIN loss: 1.718, VALIDATION loss: 1.169, accuraccy: 0.535\n",
      "EPOCH 5:\n",
      "TRAIN loss: 1.694, VALIDATION loss: 1.114, accuraccy: 0.565\n",
      "EPOCH 6:\n",
      "TRAIN loss: 1.685, VALIDATION loss: 1.097, accuraccy: 0.564\n",
      "EPOCH 7:\n",
      "TRAIN loss: 1.688, VALIDATION loss: 1.110, accuraccy: 0.555\n",
      "EPOCH 8:\n",
      "Best accuracy: 0.565\n",
      "Model with l1 reg 0.001\n",
      "EPOCH 1:\n",
      "TRAIN loss: 1.209, VALIDATION loss: 0.652, accuraccy: 0.759\n",
      "EPOCH 2:\n",
      "TRAIN loss: 0.915, VALIDATION loss: 0.654, accuraccy: 0.762\n",
      "EPOCH 3:\n",
      "TRAIN loss: 0.883, VALIDATION loss: 0.602, accuraccy: 0.773\n",
      "EPOCH 4:\n",
      "TRAIN loss: 0.842, VALIDATION loss: 0.603, accuraccy: 0.780\n",
      "EPOCH 5:\n",
      "TRAIN loss: 0.813, VALIDATION loss: 0.646, accuraccy: 0.763\n",
      "EPOCH 6:\n",
      "TRAIN loss: 0.803, VALIDATION loss: 0.602, accuraccy: 0.778\n",
      "EPOCH 7:\n",
      "TRAIN loss: 0.790, VALIDATION loss: 0.582, accuraccy: 0.785\n",
      "EPOCH 8:\n",
      "TRAIN loss: 0.797, VALIDATION loss: 0.594, accuraccy: 0.784\n",
      "EPOCH 9:\n",
      "TRAIN loss: 0.778, VALIDATION loss: 0.548, accuraccy: 0.801\n",
      "EPOCH 10:\n",
      "Best accuracy: 0.801\n",
      "Model with l1 reg 0.0001\n",
      "EPOCH 1:\n",
      "TRAIN loss: 1.030, VALIDATION loss: 0.571, accuraccy: 0.791\n",
      "EPOCH 2:\n",
      "TRAIN loss: 0.748, VALIDATION loss: 0.543, accuraccy: 0.801\n",
      "EPOCH 3:\n",
      "TRAIN loss: 0.672, VALIDATION loss: 0.526, accuraccy: 0.808\n",
      "EPOCH 4:\n",
      "TRAIN loss: 0.636, VALIDATION loss: 0.505, accuraccy: 0.811\n",
      "EPOCH 5:\n",
      "TRAIN loss: 0.615, VALIDATION loss: 0.494, accuraccy: 0.817\n",
      "EPOCH 6:\n",
      "TRAIN loss: 0.586, VALIDATION loss: 0.480, accuraccy: 0.822\n",
      "EPOCH 7:\n",
      "TRAIN loss: 0.572, VALIDATION loss: 0.479, accuraccy: 0.826\n",
      "EPOCH 8:\n",
      "TRAIN loss: 0.563, VALIDATION loss: 0.497, accuraccy: 0.819\n",
      "EPOCH 9:\n",
      "TRAIN loss: 0.548, VALIDATION loss: 0.471, accuraccy: 0.823\n",
      "EPOCH 10:\n",
      "TRAIN loss: 0.542, VALIDATION loss: 0.467, accuraccy: 0.830\n",
      "Best accuracy: 0.830\n",
      "Model with l1 reg 1e-05\n",
      "EPOCH 1:\n",
      "TRAIN loss: 0.748, VALIDATION loss: 0.557, accuraccy: 0.796\n",
      "EPOCH 2:\n",
      "TRAIN loss: 0.609, VALIDATION loss: 0.514, accuraccy: 0.810\n",
      "EPOCH 3:\n",
      "TRAIN loss: 0.562, VALIDATION loss: 0.489, accuraccy: 0.819\n",
      "EPOCH 4:\n",
      "TRAIN loss: 0.532, VALIDATION loss: 0.469, accuraccy: 0.827\n",
      "EPOCH 5:\n",
      "TRAIN loss: 0.514, VALIDATION loss: 0.464, accuraccy: 0.830\n",
      "EPOCH 6:\n",
      "TRAIN loss: 0.499, VALIDATION loss: 0.485, accuraccy: 0.827\n",
      "EPOCH 7:\n",
      "TRAIN loss: 0.478, VALIDATION loss: 0.467, accuraccy: 0.841\n",
      "EPOCH 8:\n",
      "TRAIN loss: 0.467, VALIDATION loss: 0.477, accuraccy: 0.833\n",
      "EPOCH 9:\n",
      "TRAIN loss: 0.459, VALIDATION loss: 0.475, accuraccy: 0.832\n",
      "EPOCH 10:\n",
      "Best accuracy: 0.841\n",
      "Model with l1 reg 1.0000000000000002e-06\n",
      "EPOCH 1:\n",
      "TRAIN loss: 0.681, VALIDATION loss: 0.591, accuraccy: 0.779\n",
      "EPOCH 2:\n",
      "TRAIN loss: 0.522, VALIDATION loss: 0.514, accuraccy: 0.809\n",
      "EPOCH 3:\n",
      "TRAIN loss: 0.469, VALIDATION loss: 0.481, accuraccy: 0.830\n",
      "EPOCH 4:\n",
      "TRAIN loss: 0.438, VALIDATION loss: 0.478, accuraccy: 0.831\n",
      "EPOCH 5:\n",
      "TRAIN loss: 0.408, VALIDATION loss: 0.483, accuraccy: 0.824\n",
      "EPOCH 6:\n",
      "TRAIN loss: 0.388, VALIDATION loss: 0.469, accuraccy: 0.837\n",
      "EPOCH 7:\n",
      "TRAIN loss: 0.367, VALIDATION loss: 0.464, accuraccy: 0.838\n",
      "EPOCH 8:\n",
      "TRAIN loss: 0.354, VALIDATION loss: 0.498, accuraccy: 0.834\n",
      "EPOCH 9:\n",
      "TRAIN loss: 0.346, VALIDATION loss: 0.507, accuraccy: 0.837\n",
      "EPOCH 10:\n",
      "TRAIN loss: 0.328, VALIDATION loss: 0.485, accuraccy: 0.841\n",
      "Best accuracy: 0.841\n"
     ]
    }
   ],
   "source": [
    "l = 0.1\n",
    "for i in range(6):\n",
    "    model = Depth4Width256Network()\n",
    "    print(f\"Model with l1 reg {l}\")\n",
    "    train_model(model, None, None, training_scaler_loader, validation_scaler_loader,10 ,train_one_epoch_l1, l)\n",
    "    l /= 10"
   ]
  },
  {
   "cell_type": "markdown",
   "metadata": {},
   "source": [
    "L1 regulace skončila s efektem buď negativním, nebo při nižších hodnotách nepoznatelným."
   ]
  },
  {
   "cell_type": "code",
   "execution_count": 55,
   "metadata": {},
   "outputs": [
    {
     "name": "stdout",
     "output_type": "stream",
     "text": [
      "Model with l2 reg 0.1\n",
      "EPOCH 1:\n",
      "TRAIN loss: 1.406, VALIDATION loss: 0.772, accuraccy: 0.707\n",
      "EPOCH 2:\n",
      "TRAIN loss: 0.968, VALIDATION loss: 0.699, accuraccy: 0.741\n",
      "EPOCH 3:\n",
      "TRAIN loss: 0.910, VALIDATION loss: 0.695, accuraccy: 0.739\n",
      "EPOCH 4:\n",
      "TRAIN loss: 0.891, VALIDATION loss: 0.708, accuraccy: 0.735\n",
      "EPOCH 5:\n",
      "TRAIN loss: 0.875, VALIDATION loss: 0.754, accuraccy: 0.706\n",
      "EPOCH 6:\n",
      "Best accuracy: 0.741\n",
      "Model with l2 reg 0.001\n",
      "EPOCH 1:\n",
      "TRAIN loss: 0.853, VALIDATION loss: 0.611, accuraccy: 0.775\n",
      "EPOCH 2:\n",
      "TRAIN loss: 0.700, VALIDATION loss: 0.592, accuraccy: 0.781\n",
      "EPOCH 3:\n",
      "TRAIN loss: 0.652, VALIDATION loss: 0.557, accuraccy: 0.796\n",
      "EPOCH 4:\n",
      "TRAIN loss: 0.622, VALIDATION loss: 0.535, accuraccy: 0.805\n",
      "EPOCH 5:\n",
      "TRAIN loss: 0.602, VALIDATION loss: 0.506, accuraccy: 0.807\n",
      "EPOCH 6:\n",
      "TRAIN loss: 0.581, VALIDATION loss: 0.505, accuraccy: 0.810\n",
      "EPOCH 7:\n",
      "TRAIN loss: 0.563, VALIDATION loss: 0.479, accuraccy: 0.824\n",
      "EPOCH 8:\n",
      "TRAIN loss: 0.548, VALIDATION loss: 0.479, accuraccy: 0.824\n",
      "EPOCH 9:\n",
      "TRAIN loss: 0.536, VALIDATION loss: 0.496, accuraccy: 0.819\n",
      "EPOCH 10:\n",
      "TRAIN loss: 0.526, VALIDATION loss: 0.486, accuraccy: 0.824\n",
      "Best accuracy: 0.824\n",
      "Model with l2 reg 1e-05\n",
      "EPOCH 1:\n",
      "TRAIN loss: 0.672, VALIDATION loss: 0.545, accuraccy: 0.798\n",
      "EPOCH 2:\n",
      "TRAIN loss: 0.522, VALIDATION loss: 0.500, accuraccy: 0.817\n",
      "EPOCH 3:\n",
      "TRAIN loss: 0.466, VALIDATION loss: 0.511, accuraccy: 0.811\n",
      "EPOCH 4:\n",
      "TRAIN loss: 0.434, VALIDATION loss: 0.464, accuraccy: 0.829\n",
      "EPOCH 5:\n",
      "TRAIN loss: 0.408, VALIDATION loss: 0.494, accuraccy: 0.821\n",
      "EPOCH 6:\n",
      "TRAIN loss: 0.391, VALIDATION loss: 0.459, accuraccy: 0.834\n",
      "EPOCH 7:\n",
      "TRAIN loss: 0.373, VALIDATION loss: 0.471, accuraccy: 0.839\n",
      "EPOCH 8:\n",
      "TRAIN loss: 0.360, VALIDATION loss: 0.477, accuraccy: 0.843\n",
      "EPOCH 9:\n",
      "TRAIN loss: 0.343, VALIDATION loss: 0.478, accuraccy: 0.835\n",
      "EPOCH 10:\n",
      "Best accuracy: 0.843\n"
     ]
    }
   ],
   "source": [
    "l = 0.1\n",
    "for i in range(3):\n",
    "    model = Depth4Width256Network()\n",
    "    print(f\"Model with l2 reg {l}\")\n",
    "    train_model(model, None, None, training_scaler_loader, validation_scaler_loader, 10, train_one_epoch_l2, l)\n",
    "    l /= 100"
   ]
  },
  {
   "cell_type": "markdown",
   "metadata": {},
   "source": [
    "L2 regulace měla na trénování efekt negativní, v žádném z případu se výsledky nedostali k těm bez regulace."
   ]
  },
  {
   "cell_type": "markdown",
   "metadata": {},
   "source": [
    "Regularizace se zde prokázala jako v tomto případě neefektivní záležitost."
   ]
  },
  {
   "cell_type": "markdown",
   "metadata": {},
   "source": [
    "## Optimizer"
   ]
  },
  {
   "cell_type": "markdown",
   "metadata": {},
   "source": [
    "Nakonec budu porovnávat efekty optimiserů ADAM a SGD"
   ]
  },
  {
   "cell_type": "markdown",
   "metadata": {},
   "source": [
    "Vytrénuju si tedy oba modely s využitím daných optimiserů a následně porovnám výsledky."
   ]
  },
  {
   "cell_type": "code",
   "execution_count": 56,
   "metadata": {},
   "outputs": [
    {
     "name": "stdout",
     "output_type": "stream",
     "text": [
      "EPOCH 1:\n",
      "TRAIN loss: 0.796, VALIDATION loss: 0.618, accuraccy: 0.777\n",
      "EPOCH 2:\n",
      "TRAIN loss: 0.532, VALIDATION loss: 0.518, accuraccy: 0.813\n",
      "EPOCH 3:\n",
      "TRAIN loss: 0.467, VALIDATION loss: 0.516, accuraccy: 0.813\n",
      "EPOCH 4:\n",
      "TRAIN loss: 0.423, VALIDATION loss: 0.485, accuraccy: 0.825\n",
      "EPOCH 5:\n",
      "TRAIN loss: 0.394, VALIDATION loss: 0.466, accuraccy: 0.833\n",
      "EPOCH 6:\n",
      "TRAIN loss: 0.364, VALIDATION loss: 0.501, accuraccy: 0.822\n",
      "EPOCH 7:\n",
      "TRAIN loss: 0.347, VALIDATION loss: 0.457, accuraccy: 0.841\n",
      "EPOCH 8:\n",
      "TRAIN loss: 0.325, VALIDATION loss: 0.455, accuraccy: 0.842\n",
      "EPOCH 9:\n",
      "TRAIN loss: 0.306, VALIDATION loss: 0.477, accuraccy: 0.836\n",
      "EPOCH 10:\n",
      "Best accuracy: 0.842\n"
     ]
    }
   ],
   "source": [
    "model = Depth4Width256Network()\n",
    "train_model(model, None, torch.optim.SGD(model.parameters(), 0.05), training_scaler_loader, validation_scaler_loader)"
   ]
  },
  {
   "cell_type": "code",
   "execution_count": 57,
   "metadata": {},
   "outputs": [
    {
     "name": "stdout",
     "output_type": "stream",
     "text": [
      "EPOCH 1:\n",
      "TRAIN loss: 0.671, VALIDATION loss: 0.582, accuraccy: 0.785\n",
      "EPOCH 2:\n",
      "TRAIN loss: 0.510, VALIDATION loss: 0.508, accuraccy: 0.813\n",
      "EPOCH 3:\n",
      "TRAIN loss: 0.457, VALIDATION loss: 0.462, accuraccy: 0.831\n",
      "EPOCH 4:\n",
      "TRAIN loss: 0.418, VALIDATION loss: 0.495, accuraccy: 0.820\n",
      "EPOCH 5:\n",
      "TRAIN loss: 0.389, VALIDATION loss: 0.498, accuraccy: 0.828\n",
      "EPOCH 6:\n",
      "TRAIN loss: 0.367, VALIDATION loss: 0.472, accuraccy: 0.834\n",
      "EPOCH 7:\n",
      "TRAIN loss: 0.348, VALIDATION loss: 0.454, accuraccy: 0.840\n",
      "EPOCH 8:\n",
      "TRAIN loss: 0.328, VALIDATION loss: 0.498, accuraccy: 0.837\n",
      "EPOCH 9:\n",
      "Best accuracy: 0.840\n"
     ]
    }
   ],
   "source": [
    "model = Depth4Width256Network()\n",
    "train_model(model, None, None, training_scaler_loader, validation_scaler_loader)"
   ]
  },
  {
   "cell_type": "markdown",
   "metadata": {},
   "source": [
    "ADAM a SGD jsou u tohoto datasetu, co se týče schopností na podobné úrovni, ponechávám si tedy jako defaultní optimizer adam, jelikož ho již tak využívám."
   ]
  },
  {
   "cell_type": "markdown",
   "metadata": {},
   "source": [
    "# Konvoluční Model\n",
    "\n",
    "Tento model především stavěný pro zpracování dat s tensorovou strukturou, tu obrázky mají a tudíž je tento druh modelu velmi vhodný pro tuto úlohu."
   ]
  },
  {
   "cell_type": "markdown",
   "metadata": {},
   "source": [
    "Nejdříve si připravím data do 2d podoby."
   ]
  },
  {
   "cell_type": "code",
   "execution_count": 58,
   "metadata": {},
   "outputs": [],
   "source": [
    "source_images2d = np.reshape(data_norm.iloc[:, :1024].to_numpy(), (len(data_norm), 1, 32, 32))\n",
    "source_labels2d = data_norm.label.to_numpy()\n",
    "dataset2d_norm = torch.utils.data.TensorDataset(torch.tensor(source_images2d, dtype = torch.float), torch.tensor(source_labels2d, dtype = torch.long))\n",
    "train2d_norm_data, val2d_norm_data, test2d_norm_data = torch.utils.data.random_split(dataset2d_norm, split, generator1)\n",
    "training2d_norm_loader = torch.utils.data.DataLoader(train2d_norm_data, batch_size=32, shuffle=True)\n",
    "validation2d_norm_loader = torch.utils.data.DataLoader(val2d_norm_data, batch_size=128, shuffle=False)"
   ]
  },
  {
   "cell_type": "code",
   "execution_count": 59,
   "metadata": {},
   "outputs": [],
   "source": [
    "source_images2d = np.reshape(df.iloc[:, :1024].to_numpy(), (len(df), 1, 32, 32))\n",
    "source_labels2d = df.label.to_numpy()\n",
    "dataset2d = torch.utils.data.TensorDataset(torch.tensor(source_images2d, dtype = torch.float), torch.tensor(source_labels2d, dtype = torch.long))\n",
    "train2d_data, val2d_data, test2d_data = torch.utils.data.random_split(dataset2d, split, generator1)\n",
    "training2d_loader = torch.utils.data.DataLoader(train2d_data, batch_size=32, shuffle=True)\n",
    "validation2d_loader = torch.utils.data.DataLoader(val2d_data, batch_size=128, shuffle=False)\n",
    "iterator =\n",
    "print()"
   ]
  },
  {
   "cell_type": "code",
   "execution_count": 60,
   "metadata": {},
   "outputs": [],
   "source": [
    "source_images2d = np.reshape(data_scaler.iloc[:, :1024].to_numpy(), (len(data_scaler), 1, 32, 32))\n",
    "source_labels2d = data_scaler.label.to_numpy()\n",
    "dataset2d_scaler = torch.utils.data.TensorDataset(torch.tensor(source_images2d, dtype = torch.float), torch.tensor(source_labels2d, dtype = torch.long))\n",
    "train2d_scaler_data, val2d_scaler_data, test2d_scaler_data = torch.utils.data.random_split(dataset2d, split, generator1)\n",
    "training2d_scaler_loader = torch.utils.data.DataLoader(train2d_scaler_data, batch_size=32, shuffle=True)\n",
    "validation2d_scaler_loader = torch.utils.data.DataLoader(val2d_scaler_data, batch_size=128, shuffle=False)"
   ]
  },
  {
   "cell_type": "markdown",
   "metadata": {},
   "source": [
    "# Struktura Modelu"
   ]
  },
  {
   "cell_type": "markdown",
   "metadata": {},
   "source": [
    "V této části budu testovat různé struktury Konvolučního modelu, rozdělím si je podle počtu použitých vrstev"
   ]
  },
  {
   "cell_type": "code",
   "execution_count": 88,
   "metadata": {},
   "outputs": [],
   "source": [
    "# initial neural net, just two neural net, pool and conversion to categorical values\n",
    "class Conv2(nn.Module):\n",
    "    def __init__(self):\n",
    "        super().__init__()\n",
    "        self.conv1 = nn.Conv2d(in_channels = 1, out_channels = 32, kernel_size = 3)\n",
    "        self.conv2 = nn.Conv2d(32, 16, 3)\n",
    "        self.pool1 = nn.MaxPool2d(kernel_size = 2, stride = 2)\n",
    "        self.fco = nn.Linear(3136, 10)\n",
    "\n",
    "    def forward(self, x):\n",
    "        x = F.relu(self.conv1(x))\n",
    "        x = F.relu(self.conv2(x))\n",
    "        x = self.pool1(x)\n",
    "        x = x.flatten(start_dim = 1)\n",
    "        x = self.fco(x)\n",
    "        return x\n",
    "# added second pool to the initial neural net   \n",
    "class Conv3(nn.Module):\n",
    "    def __init__(self):\n",
    "        super().__init__()\n",
    "        self.conv1 = nn.Conv2d(in_channels = 1, out_channels = 32, kernel_size = 3)\n",
    "        self.pool1 = nn.MaxPool2d(kernel_size = 2, stride = 2)\n",
    "        self.conv2 = nn.Conv2d(32, 16, 3)\n",
    "        self.pool2 = nn.MaxPool2d(kernel_size = 2, stride = 2)\n",
    "        self.fco = nn.Linear(576, 10)\n",
    "\n",
    "    def forward(self, x):\n",
    "        x = F.relu(self.conv1(x))\n",
    "        x = self.pool1(x)\n",
    "        x = F.relu(self.conv2(x))\n",
    "        x = self.pool2(x)\n",
    "        x = x.flatten(start_dim = 1)\n",
    "        x = self.fco(x)\n",
    "        return x\n",
    "# same as before but with a dropout  \n",
    "class Conv4(nn.Module):\n",
    "    def __init__(self):\n",
    "        super().__init__()\n",
    "        self.conv1 = nn.Conv2d(in_channels = 1, out_channels = 32, kernel_size = 3)\n",
    "        self.dropout = nn.Dropout2d(0.1)\n",
    "        self.pool1 = nn.MaxPool2d(kernel_size = 2, stride = 2)\n",
    "        self.conv2 = nn.Conv2d(32, 16, 3)\n",
    "        self.pool2 = nn.MaxPool2d(kernel_size = 2, stride = 2)\n",
    "        self.fco = nn.Linear(576, 10)\n",
    "\n",
    "    def forward(self, x):\n",
    "        x = F.relu(self.conv1(x))\n",
    "        x = self.dropout(x)\n",
    "        x = self.pool1(x)\n",
    "        x = F.relu(self.conv2(x))\n",
    "        x = self.pool2(x)\n",
    "        x = x.flatten(start_dim = 1)\n",
    "        x = self.fco(x)\n",
    "        return x"
   ]
  },
  {
   "cell_type": "code",
   "execution_count": 85,
   "metadata": {},
   "outputs": [
    {
     "name": "stdout",
     "output_type": "stream",
     "text": [
      "EPOCH 1:\n",
      "TRAIN loss: 0.582, VALIDATION loss: 0.460, accuraccy: 0.835\n",
      "EPOCH 2:\n",
      "TRAIN loss: 0.413, VALIDATION loss: 0.382, accuraccy: 0.862\n",
      "EPOCH 3:\n",
      "TRAIN loss: 0.361, VALIDATION loss: 0.357, accuraccy: 0.876\n",
      "EPOCH 4:\n",
      "TRAIN loss: 0.330, VALIDATION loss: 0.346, accuraccy: 0.877\n",
      "EPOCH 5:\n",
      "TRAIN loss: 0.305, VALIDATION loss: 0.364, accuraccy: 0.868\n",
      "EPOCH 6:\n",
      "TRAIN loss: 0.287, VALIDATION loss: 0.333, accuraccy: 0.884\n",
      "EPOCH 7:\n",
      "TRAIN loss: 0.269, VALIDATION loss: 0.347, accuraccy: 0.879\n",
      "EPOCH 8:\n",
      "TRAIN loss: 0.254, VALIDATION loss: 0.334, accuraccy: 0.886\n",
      "EPOCH 9:\n",
      "TRAIN loss: 0.241, VALIDATION loss: 0.336, accuraccy: 0.887\n",
      "EPOCH 10:\n",
      "TRAIN loss: 0.229, VALIDATION loss: 0.348, accuraccy: 0.878\n",
      "Best accuracy: 0.887\n"
     ]
    }
   ],
   "source": [
    "model = Conv2()\n",
    "train_model(model, None, None, training2d_norm_loader, validation2d_norm_loader, 10)"
   ]
  },
  {
   "cell_type": "markdown",
   "metadata": {},
   "source": [
    "Již první nasazený model silně poráží modely tvořené z klasické dopředové neurální sítě."
   ]
  },
  {
   "cell_type": "code",
   "execution_count": 89,
   "metadata": {},
   "outputs": [
    {
     "name": "stdout",
     "output_type": "stream",
     "text": [
      "EPOCH 1:\n",
      "TRAIN loss: 0.678, VALIDATION loss: 0.527, accuraccy: 0.803\n",
      "EPOCH 2:\n",
      "TRAIN loss: 0.480, VALIDATION loss: 0.490, accuraccy: 0.817\n",
      "EPOCH 3:\n",
      "TRAIN loss: 0.435, VALIDATION loss: 0.430, accuraccy: 0.836\n",
      "EPOCH 4:\n",
      "TRAIN loss: 0.408, VALIDATION loss: 0.394, accuraccy: 0.859\n",
      "EPOCH 5:\n",
      "TRAIN loss: 0.389, VALIDATION loss: 0.388, accuraccy: 0.863\n",
      "EPOCH 6:\n",
      "TRAIN loss: 0.374, VALIDATION loss: 0.385, accuraccy: 0.862\n",
      "EPOCH 7:\n",
      "TRAIN loss: 0.359, VALIDATION loss: 0.383, accuraccy: 0.859\n",
      "EPOCH 8:\n",
      "TRAIN loss: 0.350, VALIDATION loss: 0.367, accuraccy: 0.866\n",
      "EPOCH 9:\n",
      "TRAIN loss: 0.338, VALIDATION loss: 0.363, accuraccy: 0.871\n",
      "EPOCH 10:\n",
      "TRAIN loss: 0.331, VALIDATION loss: 0.393, accuraccy: 0.856\n",
      "Best accuracy: 0.871\n"
     ]
    }
   ],
   "source": [
    "model = Conv3()\n",
    "train_model(model, None, None, training2d_norm_loader, validation2d_norm_loader, 10)"
   ]
  },
  {
   "cell_type": "code",
   "execution_count": 90,
   "metadata": {},
   "outputs": [
    {
     "name": "stdout",
     "output_type": "stream",
     "text": [
      "EPOCH 1:\n",
      "TRAIN loss: 0.711, VALIDATION loss: 0.505, accuraccy: 0.821\n",
      "EPOCH 2:\n",
      "TRAIN loss: 0.495, VALIDATION loss: 0.443, accuraccy: 0.840\n",
      "EPOCH 3:\n",
      "TRAIN loss: 0.444, VALIDATION loss: 0.422, accuraccy: 0.852\n",
      "EPOCH 4:\n",
      "TRAIN loss: 0.412, VALIDATION loss: 0.412, accuraccy: 0.851\n",
      "EPOCH 5:\n",
      "TRAIN loss: 0.389, VALIDATION loss: 0.379, accuraccy: 0.867\n",
      "EPOCH 6:\n",
      "TRAIN loss: 0.369, VALIDATION loss: 0.375, accuraccy: 0.863\n",
      "EPOCH 7:\n",
      "TRAIN loss: 0.353, VALIDATION loss: 0.360, accuraccy: 0.868\n",
      "EPOCH 8:\n",
      "TRAIN loss: 0.346, VALIDATION loss: 0.350, accuraccy: 0.876\n",
      "EPOCH 9:\n",
      "TRAIN loss: 0.336, VALIDATION loss: 0.359, accuraccy: 0.871\n",
      "EPOCH 10:\n",
      "TRAIN loss: 0.329, VALIDATION loss: 0.338, accuraccy: 0.882\n",
      "Best accuracy: 0.882\n"
     ]
    }
   ],
   "source": [
    "model = Conv4()\n",
    "train_model(model, None, None, training2d_norm_loader, validation2d_norm_loader, 10)"
   ]
  },
  {
   "cell_type": "code",
   "execution_count": 99,
   "metadata": {},
   "outputs": [],
   "source": [
    "class MyConvNet2(nn.Module):\n",
    "    def __init__(self):\n",
    "        super().__init__()\n",
    "        self.conv1 = nn.Conv2d(in_channels = 1, out_channels = 32, kernel_size = 3)\n",
    "        self.conv1_drop = nn.Dropout2d(p=0.1)\n",
    "        self.conv2 = nn.Conv2d(32, 16, 3)\n",
    "        self.pool2 = nn.MaxPool2d(kernel_size = 2, stride = 2)\n",
    "        self.fco = nn.Linear(3136, 10)\n",
    "\n",
    "    def forward(self, x):\n",
    "        x = F.relu(self.conv1(x))\n",
    "        x = self.conv1_drop(x)\n",
    "        x = F.relu(self.conv2(x))\n",
    "        x = self.pool2(x)\n",
    "        x = x.flatten(start_dim = 1)\n",
    "        x = self.fco(x)\n",
    "        return x\n",
    "\n",
    "model = MyConvNet2()"
   ]
  },
  {
   "cell_type": "code",
   "execution_count": 101,
   "metadata": {},
   "outputs": [
    {
     "name": "stdout",
     "output_type": "stream",
     "text": [
      "EPOCH 1:\n",
      "TRAIN loss: 0.508, VALIDATION loss: 0.426, accuraccy: 0.847\n",
      "EPOCH 2:\n",
      "TRAIN loss: 0.415, VALIDATION loss: 0.391, accuraccy: 0.861\n",
      "EPOCH 3:\n",
      "TRAIN loss: 0.368, VALIDATION loss: 0.362, accuraccy: 0.873\n",
      "EPOCH 4:\n",
      "TRAIN loss: 0.333, VALIDATION loss: 0.350, accuraccy: 0.877\n",
      "EPOCH 5:\n",
      "TRAIN loss: 0.312, VALIDATION loss: 0.350, accuraccy: 0.875\n",
      "EPOCH 6:\n",
      "TRAIN loss: 0.289, VALIDATION loss: 0.337, accuraccy: 0.882\n",
      "EPOCH 7:\n",
      "TRAIN loss: 0.277, VALIDATION loss: 0.341, accuraccy: 0.877\n",
      "EPOCH 8:\n",
      "TRAIN loss: 0.265, VALIDATION loss: 0.340, accuraccy: 0.879\n",
      "Best accuracy: 0.882\n",
      "CPU times: total: 20min 56s\n",
      "Wall time: 11min 5s\n"
     ]
    }
   ],
   "source": [
    "%%time\n",
    "train_model(model, None, None, training2d_norm_loader, validation2d_norm_loader, 8)"
   ]
  },
  {
   "cell_type": "code",
   "execution_count": 103,
   "metadata": {},
   "outputs": [],
   "source": [
    "class MyConvNet3(nn.Module):\n",
    "    def __init__(self):\n",
    "        super().__init__()\n",
    "        self.conv1 = nn.Conv2d(in_channels = 1, out_channels = 32, kernel_size = 3)\n",
    "        self.pool1 = nn.MaxPool2d(kernel_size = 2, stride = 2)\n",
    "        self.conv1_drop = nn.Dropout2d(p=0.1)\n",
    "        self.conv2 = nn.Conv2d(32, 16, 3)\n",
    "        self.pool2 = nn.MaxPool2d(kernel_size = 2, stride = 2)\n",
    "        self.fco1 = nn.Linear(576, 576)\n",
    "        self.fco2 = nn.Linear(576, 10)\n",
    "\n",
    "    def forward(self, x):\n",
    "        x = F.relu(self.conv1(x))\n",
    "        x = self.pool1(x)\n",
    "        x = self.conv1_drop(x)\n",
    "        x = F.relu(self.conv2(x))\n",
    "        x = self.pool2(x)\n",
    "        x = x.flatten(start_dim = 1)\n",
    "        x = F.relu(self.fco1(x))\n",
    "        x = self.fco2(x)\n",
    "        return x\n",
    "\n",
    "model = MyConvNet3()"
   ]
  },
  {
   "cell_type": "code",
   "execution_count": 104,
   "metadata": {},
   "outputs": [
    {
     "name": "stdout",
     "output_type": "stream",
     "text": [
      "EPOCH 1:\n",
      "TRAIN loss: 0.602, VALIDATION loss: 0.433, accuraccy: 0.840\n",
      "EPOCH 2:\n",
      "TRAIN loss: 0.408, VALIDATION loss: 0.371, accuraccy: 0.868\n",
      "EPOCH 3:\n",
      "TRAIN loss: 0.348, VALIDATION loss: 0.329, accuraccy: 0.882\n",
      "EPOCH 4:\n",
      "TRAIN loss: 0.313, VALIDATION loss: 0.322, accuraccy: 0.882\n",
      "EPOCH 5:\n",
      "TRAIN loss: 0.287, VALIDATION loss: 0.310, accuraccy: 0.894\n",
      "EPOCH 6:\n",
      "TRAIN loss: 0.265, VALIDATION loss: 0.316, accuraccy: 0.889\n",
      "EPOCH 7:\n",
      "TRAIN loss: 0.242, VALIDATION loss: 0.307, accuraccy: 0.890\n",
      "EPOCH 8:\n",
      "Best accuracy: 0.894\n",
      "CPU times: total: 15min 15s\n",
      "Wall time: 7min 47s\n"
     ]
    }
   ],
   "source": [
    "%%time\n",
    "train_model(model, None, None, training2d_norm_loader, validation2d_norm_loader, 10)"
   ]
  },
  {
   "cell_type": "code",
   "execution_count": 105,
   "metadata": {},
   "outputs": [],
   "source": [
    "class MyConvNet5(nn.Module):\n",
    "    def __init__(self):\n",
    "        super().__init__()\n",
    "        self.conv1 = nn.Conv2d(in_channels = 1, out_channels = 32, kernel_size = 3)\n",
    "        self.pool1 = nn.MaxPool2d(kernel_size = 2, stride = 2)\n",
    "        self.conv1_drop = nn.Dropout2d(p=0.1)\n",
    "        self.conv2 = nn.Conv2d(32, 16, 3)\n",
    "        self.pool2 = nn.MaxPool2d(kernel_size = 2, stride = 2)\n",
    "        self.batch_norm1 = nn.BatchNorm1d(576)\n",
    "        self.fco1 = nn.Linear(576, 576)\n",
    "        self.fco2 = nn.Linear(576, 10)\n",
    "\n",
    "    def forward(self, x):\n",
    "        x = F.relu(self.conv1(x))\n",
    "        x = self.pool1(x)\n",
    "        x = self.conv1_drop(x)\n",
    "        x = F.relu(self.conv2(x))\n",
    "        x = self.pool2(x)\n",
    "        x = x.flatten(start_dim = 1)\n",
    "        x = self.batch_norm1(x)\n",
    "        x = F.relu(self.fco1(x))\n",
    "        x = self.fco2(x)\n",
    "        return x\n",
    "\n",
    "model = MyConvNet5()"
   ]
  },
  {
   "cell_type": "code",
   "execution_count": 106,
   "metadata": {},
   "outputs": [
    {
     "name": "stdout",
     "output_type": "stream",
     "text": [
      "EPOCH 1:\n",
      "TRAIN loss: 0.542, VALIDATION loss: 0.399, accuraccy: 0.851\n",
      "EPOCH 2:\n",
      "TRAIN loss: 0.380, VALIDATION loss: 0.347, accuraccy: 0.873\n",
      "EPOCH 3:\n",
      "TRAIN loss: 0.327, VALIDATION loss: 0.326, accuraccy: 0.879\n",
      "EPOCH 4:\n",
      "TRAIN loss: 0.294, VALIDATION loss: 0.318, accuraccy: 0.882\n",
      "EPOCH 5:\n",
      "TRAIN loss: 0.269, VALIDATION loss: 0.307, accuraccy: 0.891\n",
      "EPOCH 6:\n",
      "TRAIN loss: 0.241, VALIDATION loss: 0.326, accuraccy: 0.891\n",
      "EPOCH 7:\n",
      "TRAIN loss: 0.219, VALIDATION loss: 0.312, accuraccy: 0.894\n",
      "EPOCH 8:\n",
      "TRAIN loss: 0.199, VALIDATION loss: 0.336, accuraccy: 0.890\n",
      "EPOCH 9:\n",
      "TRAIN loss: 0.180, VALIDATION loss: 0.348, accuraccy: 0.893\n",
      "EPOCH 10:\n",
      "Best accuracy: 0.894\n",
      "CPU times: total: 19min 27s\n",
      "Wall time: 9min 58s\n"
     ]
    }
   ],
   "source": [
    "%%time\n",
    "train_model(model, None, None, training2d_norm_loader, validation2d_norm_loader, 10)"
   ]
  },
  {
   "cell_type": "code",
   "execution_count": 107,
   "metadata": {},
   "outputs": [],
   "source": [
    "class MyConvNet6(nn.Module):\n",
    "    def __init__(self):\n",
    "        super().__init__()\n",
    "        self.conv1 = nn.Conv2d(in_channels = 1, out_channels = 32, kernel_size = 3)\n",
    "        self.pool1 = nn.MaxPool2d(kernel_size = 2, stride = 2)\n",
    "        self.conv1_drop = nn.Dropout2d(p=0.1)\n",
    "        self.conv2 = nn.Conv2d(32, 16, 3)\n",
    "        self.pool2 = nn.MaxPool2d(kernel_size = 2, stride = 2)\n",
    "        self.batch_norm1 = nn.BatchNorm1d(576)\n",
    "        self.fco1 = nn.Linear(576, 256)\n",
    "        self.fco2 = nn.Linear(256, 10)\n",
    "\n",
    "    def forward(self, x):\n",
    "        x = F.relu(self.conv1(x))\n",
    "        x = self.pool1(x)\n",
    "        x = self.conv1_drop(x)\n",
    "        x = F.relu(self.conv2(x))\n",
    "        x = self.pool2(x)\n",
    "        x = x.flatten(start_dim = 1)\n",
    "        x = self.batch_norm1(x)\n",
    "        x = F.relu(self.fco1(x))\n",
    "        x = self.fco2(x)\n",
    "        return x\n",
    "\n",
    "model = MyConvNet6()"
   ]
  },
  {
   "cell_type": "code",
   "execution_count": 108,
   "metadata": {},
   "outputs": [
    {
     "name": "stdout",
     "output_type": "stream",
     "text": [
      "EPOCH 1:\n",
      "TRAIN loss: 0.545, VALIDATION loss: 0.380, accuraccy: 0.858\n",
      "EPOCH 2:\n",
      "TRAIN loss: 0.383, VALIDATION loss: 0.333, accuraccy: 0.879\n",
      "EPOCH 3:\n",
      "TRAIN loss: 0.337, VALIDATION loss: 0.312, accuraccy: 0.885\n",
      "EPOCH 4:\n",
      "TRAIN loss: 0.307, VALIDATION loss: 0.305, accuraccy: 0.892\n",
      "EPOCH 5:\n",
      "TRAIN loss: 0.280, VALIDATION loss: 0.314, accuraccy: 0.886\n",
      "EPOCH 6:\n",
      "TRAIN loss: 0.260, VALIDATION loss: 0.305, accuraccy: 0.891\n",
      "EPOCH 7:\n",
      "TRAIN loss: 0.239, VALIDATION loss: 0.317, accuraccy: 0.893\n",
      "EPOCH 8:\n",
      "TRAIN loss: 0.227, VALIDATION loss: 0.341, accuraccy: 0.886\n",
      "EPOCH 9:\n",
      "Best accuracy: 0.893\n",
      "CPU times: total: 16min 33s\n",
      "Wall time: 8min 45s\n"
     ]
    }
   ],
   "source": [
    "%%time\n",
    "train_model(model, None, None, training2d_norm_loader, validation2d_norm_loader, 10)"
   ]
  },
  {
   "cell_type": "code",
   "execution_count": 117,
   "metadata": {},
   "outputs": [],
   "source": [
    "class MyConvNet10(nn.Module):\n",
    "    def __init__(self):\n",
    "        super().__init__()\n",
    "        self.conv1 = nn.Conv2d(in_channels = 1, out_channels = 32, kernel_size = 3)\n",
    "        self.pool1 = nn.MaxPool2d(kernel_size = 2, stride = 2)\n",
    "        self.conv1_drop = nn.Dropout2d(p=0.1)\n",
    "        self.conv2 = nn.Conv2d(32, 16, 3)\n",
    "        self.pool2 = nn.MaxPool2d(kernel_size = 2, stride = 2)\n",
    "        self.batch_norm1 = nn.BatchNorm1d(576)\n",
    "        self.fco1 = nn.Linear(576, 256)\n",
    "        self.batch_norm2 = nn.BatchNorm1d(256)\n",
    "        self.fco2 = nn.Linear(256, 10)\n",
    "\n",
    "    def forward(self, x):\n",
    "        x = F.relu(self.conv1(x))\n",
    "        x = F.relu(self.pool1(x))\n",
    "        x = self.conv1_drop(x)\n",
    "        x = F.relu(self.conv2(x))\n",
    "        x = self.pool2(x)\n",
    "        x = x.flatten(start_dim = 1)\n",
    "        x = self.batch_norm1(x)\n",
    "        x = F.relu(self.fco1(x))\n",
    "        x = self.batch_norm2(x)\n",
    "        x = self.fco2(x)\n",
    "        return x\n",
    "\n"
   ]
  },
  {
   "cell_type": "code",
   "execution_count": 118,
   "metadata": {},
   "outputs": [
    {
     "name": "stdout",
     "output_type": "stream",
     "text": [
      "EPOCH 1:\n",
      "TRAIN loss: 0.544, VALIDATION loss: 0.395, accuraccy: 0.855\n",
      "EPOCH 2:\n",
      "TRAIN loss: 0.393, VALIDATION loss: 0.354, accuraccy: 0.868\n",
      "EPOCH 3:\n",
      "TRAIN loss: 0.350, VALIDATION loss: 0.324, accuraccy: 0.882\n",
      "EPOCH 4:\n",
      "TRAIN loss: 0.319, VALIDATION loss: 0.324, accuraccy: 0.884\n",
      "EPOCH 5:\n",
      "TRAIN loss: 0.294, VALIDATION loss: 0.296, accuraccy: 0.895\n",
      "EPOCH 6:\n",
      "TRAIN loss: 0.275, VALIDATION loss: 0.307, accuraccy: 0.889\n",
      "EPOCH 7:\n",
      "TRAIN loss: 0.256, VALIDATION loss: 0.300, accuraccy: 0.895\n",
      "EPOCH 8:\n",
      "TRAIN loss: 0.245, VALIDATION loss: 0.323, accuraccy: 0.883\n",
      "EPOCH 9:\n",
      "Best accuracy: 0.895\n",
      "CPU times: total: 17min 48s\n",
      "Wall time: 9min 42s\n"
     ]
    }
   ],
   "source": [
    "%%time\n",
    "model = MyConvNet10()\n",
    "\n",
    "train_model(model, None, None, training2d_norm_loader, validation2d_norm_loader, 10)"
   ]
  },
  {
   "cell_type": "markdown",
   "metadata": {},
   "source": [
    "Všechny modely využívající Konvoluci překonali hranici 88 %, ty složitější se dokázali dostat až k 89.5% přesnosti za cenu delší doby trénování, jako nejpřesnější model se prokázal MyConvNet10, který především využívá dávkové normalizace pro svůj výkon"
   ]
  },
  {
   "cell_type": "markdown",
   "metadata": {},
   "source": [
    "## Normalizace"
   ]
  },
  {
   "cell_type": "markdown",
   "metadata": {},
   "source": [
    "Cílem bude určit jaký tip dat je nejvhodnější pro konvoluční modely"
   ]
  },
  {
   "cell_type": "code",
   "execution_count": 119,
   "metadata": {},
   "outputs": [
    {
     "name": "stdout",
     "output_type": "stream",
     "text": [
      "EPOCH 1:\n",
      "TRAIN loss: 0.705, VALIDATION loss: 0.504, accuraccy: 0.829\n",
      "EPOCH 2:\n",
      "TRAIN loss: 0.471, VALIDATION loss: 0.466, accuraccy: 0.832\n",
      "EPOCH 3:\n",
      "TRAIN loss: 0.430, VALIDATION loss: 0.417, accuraccy: 0.854\n",
      "EPOCH 4:\n",
      "TRAIN loss: 0.407, VALIDATION loss: 0.398, accuraccy: 0.859\n",
      "EPOCH 5:\n",
      "TRAIN loss: 0.391, VALIDATION loss: 0.415, accuraccy: 0.846\n",
      "EPOCH 6:\n",
      "TRAIN loss: 0.373, VALIDATION loss: 0.387, accuraccy: 0.865\n",
      "EPOCH 7:\n",
      "TRAIN loss: 0.365, VALIDATION loss: 0.415, accuraccy: 0.850\n",
      "EPOCH 8:\n",
      "TRAIN loss: 0.358, VALIDATION loss: 0.392, accuraccy: 0.867\n",
      "EPOCH 9:\n",
      "TRAIN loss: 0.349, VALIDATION loss: 0.378, accuraccy: 0.870\n",
      "EPOCH 10:\n",
      "TRAIN loss: 0.342, VALIDATION loss: 0.388, accuraccy: 0.867\n",
      "Best accuracy: 0.870\n"
     ]
    }
   ],
   "source": [
    "model = Conv3()\n",
    "train_model(model, None, None, training2d_loader, validation2d_loader, 10)"
   ]
  },
  {
   "cell_type": "code",
   "execution_count": 120,
   "metadata": {},
   "outputs": [
    {
     "name": "stdout",
     "output_type": "stream",
     "text": [
      "EPOCH 1:\n",
      "TRAIN loss: 0.705, VALIDATION loss: 0.554, accuraccy: 0.800\n",
      "EPOCH 2:\n",
      "TRAIN loss: 0.506, VALIDATION loss: 0.501, accuraccy: 0.815\n",
      "EPOCH 3:\n",
      "TRAIN loss: 0.453, VALIDATION loss: 0.456, accuraccy: 0.836\n",
      "EPOCH 4:\n",
      "TRAIN loss: 0.414, VALIDATION loss: 0.390, accuraccy: 0.862\n",
      "EPOCH 5:\n",
      "TRAIN loss: 0.387, VALIDATION loss: 0.390, accuraccy: 0.857\n",
      "EPOCH 6:\n",
      "TRAIN loss: 0.370, VALIDATION loss: 0.378, accuraccy: 0.868\n",
      "EPOCH 7:\n",
      "TRAIN loss: 0.354, VALIDATION loss: 0.385, accuraccy: 0.860\n",
      "EPOCH 8:\n",
      "TRAIN loss: 0.342, VALIDATION loss: 0.386, accuraccy: 0.861\n",
      "EPOCH 9:\n",
      "TRAIN loss: 0.334, VALIDATION loss: 0.353, accuraccy: 0.876\n",
      "EPOCH 10:\n",
      "TRAIN loss: 0.324, VALIDATION loss: 0.356, accuraccy: 0.876\n",
      "Best accuracy: 0.876\n"
     ]
    }
   ],
   "source": [
    "model = Conv3()\n",
    "train_model(model, None, None, training2d_norm_loader, validation2d_norm_loader, 10)"
   ]
  },
  {
   "cell_type": "code",
   "execution_count": 122,
   "metadata": {},
   "outputs": [
    {
     "name": "stdout",
     "output_type": "stream",
     "text": [
      "EPOCH 1:\n",
      "TRAIN loss: 0.742, VALIDATION loss: 0.536, accuraccy: 0.805\n",
      "EPOCH 2:\n",
      "TRAIN loss: 0.495, VALIDATION loss: 0.491, accuraccy: 0.827\n",
      "EPOCH 3:\n",
      "TRAIN loss: 0.446, VALIDATION loss: 0.455, accuraccy: 0.844\n",
      "EPOCH 4:\n",
      "TRAIN loss: 0.421, VALIDATION loss: 0.465, accuraccy: 0.829\n",
      "EPOCH 5:\n",
      "TRAIN loss: 0.399, VALIDATION loss: 0.433, accuraccy: 0.839\n",
      "EPOCH 6:\n",
      "TRAIN loss: 0.379, VALIDATION loss: 0.425, accuraccy: 0.849\n",
      "EPOCH 7:\n",
      "TRAIN loss: 0.369, VALIDATION loss: 0.423, accuraccy: 0.850\n",
      "EPOCH 8:\n",
      "TRAIN loss: 0.358, VALIDATION loss: 0.422, accuraccy: 0.859\n",
      "EPOCH 9:\n",
      "TRAIN loss: 0.347, VALIDATION loss: 0.457, accuraccy: 0.843\n",
      "EPOCH 10:\n",
      "Best accuracy: 0.859\n"
     ]
    }
   ],
   "source": [
    "model = Conv3()\n",
    "train_model(model, None, None, training2d_scaler_loader, validation2d_scaler_loader, 10)"
   ]
  },
  {
   "cell_type": "markdown",
   "metadata": {},
   "source": [
    "Jako nejlepší se ukázal model normalizovaný podle řádků."
   ]
  },
  {
   "cell_type": "code",
   "execution_count": 128,
   "metadata": {},
   "outputs": [],
   "source": [
    "train2d_norm_data, test2d_norm_data = torch.utils.data.random_split(dataset2d_norm, [0.8, 0.2], generator1)\n",
    "train2d_norm_loader = torch.utils.data.DataLoader(train2d_norm_data, batch_size=32, shuffle=True)\n",
    "test2d_norm_loader = torch.utils.data.DataLoader(test2d_norm_data, batch_size=128, shuffle=False)"
   ]
  },
  {
   "cell_type": "code",
   "execution_count": 135,
   "metadata": {},
   "outputs": [
    {
     "name": "stdout",
     "output_type": "stream",
     "text": [
      "EPOCH 1:\n",
      "TRAIN loss: 0.551, VALIDATION loss: 0.403, accuraccy: 0.848\n",
      "EPOCH 2:\n",
      "TRAIN loss: 0.397, VALIDATION loss: 0.356, accuraccy: 0.867\n",
      "EPOCH 3:\n",
      "TRAIN loss: 0.350, VALIDATION loss: 0.343, accuraccy: 0.876\n",
      "EPOCH 4:\n",
      "TRAIN loss: 0.322, VALIDATION loss: 0.315, accuraccy: 0.884\n",
      "EPOCH 5:\n",
      "TRAIN loss: 0.299, VALIDATION loss: 0.308, accuraccy: 0.887\n",
      "EPOCH 6:\n",
      "TRAIN loss: 0.278, VALIDATION loss: 0.306, accuraccy: 0.888\n",
      "EPOCH 7:\n",
      "TRAIN loss: 0.265, VALIDATION loss: 0.297, accuraccy: 0.896\n",
      "EPOCH 8:\n",
      "TRAIN loss: 0.249, VALIDATION loss: 0.302, accuraccy: 0.891\n",
      "EPOCH 9:\n",
      "TRAIN loss: 0.233, VALIDATION loss: 0.299, accuraccy: 0.894\n",
      "EPOCH 10:\n",
      "TRAIN loss: 0.227, VALIDATION loss: 0.516, accuraccy: 0.892\n",
      "Best accuracy: 0.896\n",
      "CPU times: total: 20min 49s\n",
      "Wall time: 11min 21s\n"
     ]
    }
   ],
   "source": [
    "%%time\n",
    "model = MyConvNet10()\n",
    "\n",
    "train_model(model, None, None, train2d_norm_loader, test2d_norm_loader, 10, length=len(test2d_norm_data))"
   ]
  },
  {
   "cell_type": "markdown",
   "metadata": {},
   "source": [
    "Očekávaná přesnost na požadovaných datech je 89,2 %"
   ]
  },
  {
   "cell_type": "code",
   "execution_count": 136,
   "metadata": {},
   "outputs": [
    {
     "data": {
      "text/html": [
       "<div>\n",
       "<style scoped>\n",
       "    .dataframe tbody tr th:only-of-type {\n",
       "        vertical-align: middle;\n",
       "    }\n",
       "\n",
       "    .dataframe tbody tr th {\n",
       "        vertical-align: top;\n",
       "    }\n",
       "\n",
       "    .dataframe thead th {\n",
       "        text-align: right;\n",
       "    }\n",
       "</style>\n",
       "<table border=\"1\" class=\"dataframe\">\n",
       "  <thead>\n",
       "    <tr style=\"text-align: right;\">\n",
       "      <th></th>\n",
       "      <th>ID</th>\n",
       "      <th>pix1</th>\n",
       "      <th>pix2</th>\n",
       "      <th>pix3</th>\n",
       "      <th>pix4</th>\n",
       "      <th>pix5</th>\n",
       "      <th>pix6</th>\n",
       "      <th>pix7</th>\n",
       "      <th>pix8</th>\n",
       "      <th>pix9</th>\n",
       "      <th>...</th>\n",
       "      <th>pix1015</th>\n",
       "      <th>pix1016</th>\n",
       "      <th>pix1017</th>\n",
       "      <th>pix1018</th>\n",
       "      <th>pix1019</th>\n",
       "      <th>pix1020</th>\n",
       "      <th>pix1021</th>\n",
       "      <th>pix1022</th>\n",
       "      <th>pix1023</th>\n",
       "      <th>pix1024</th>\n",
       "    </tr>\n",
       "  </thead>\n",
       "  <tbody>\n",
       "    <tr>\n",
       "      <th>0</th>\n",
       "      <td>0</td>\n",
       "      <td>0</td>\n",
       "      <td>0</td>\n",
       "      <td>0</td>\n",
       "      <td>0</td>\n",
       "      <td>0</td>\n",
       "      <td>0</td>\n",
       "      <td>0</td>\n",
       "      <td>0</td>\n",
       "      <td>0</td>\n",
       "      <td>...</td>\n",
       "      <td>0</td>\n",
       "      <td>0</td>\n",
       "      <td>0</td>\n",
       "      <td>0</td>\n",
       "      <td>0</td>\n",
       "      <td>0</td>\n",
       "      <td>0</td>\n",
       "      <td>0</td>\n",
       "      <td>0</td>\n",
       "      <td>0</td>\n",
       "    </tr>\n",
       "    <tr>\n",
       "      <th>1</th>\n",
       "      <td>1</td>\n",
       "      <td>0</td>\n",
       "      <td>0</td>\n",
       "      <td>0</td>\n",
       "      <td>0</td>\n",
       "      <td>0</td>\n",
       "      <td>0</td>\n",
       "      <td>0</td>\n",
       "      <td>0</td>\n",
       "      <td>0</td>\n",
       "      <td>...</td>\n",
       "      <td>0</td>\n",
       "      <td>0</td>\n",
       "      <td>0</td>\n",
       "      <td>0</td>\n",
       "      <td>0</td>\n",
       "      <td>0</td>\n",
       "      <td>0</td>\n",
       "      <td>0</td>\n",
       "      <td>0</td>\n",
       "      <td>0</td>\n",
       "    </tr>\n",
       "    <tr>\n",
       "      <th>2</th>\n",
       "      <td>2</td>\n",
       "      <td>2</td>\n",
       "      <td>2</td>\n",
       "      <td>2</td>\n",
       "      <td>2</td>\n",
       "      <td>2</td>\n",
       "      <td>2</td>\n",
       "      <td>2</td>\n",
       "      <td>2</td>\n",
       "      <td>2</td>\n",
       "      <td>...</td>\n",
       "      <td>2</td>\n",
       "      <td>2</td>\n",
       "      <td>2</td>\n",
       "      <td>2</td>\n",
       "      <td>2</td>\n",
       "      <td>2</td>\n",
       "      <td>2</td>\n",
       "      <td>2</td>\n",
       "      <td>2</td>\n",
       "      <td>2</td>\n",
       "    </tr>\n",
       "    <tr>\n",
       "      <th>3</th>\n",
       "      <td>3</td>\n",
       "      <td>0</td>\n",
       "      <td>0</td>\n",
       "      <td>0</td>\n",
       "      <td>0</td>\n",
       "      <td>0</td>\n",
       "      <td>0</td>\n",
       "      <td>0</td>\n",
       "      <td>0</td>\n",
       "      <td>0</td>\n",
       "      <td>...</td>\n",
       "      <td>0</td>\n",
       "      <td>0</td>\n",
       "      <td>0</td>\n",
       "      <td>0</td>\n",
       "      <td>0</td>\n",
       "      <td>0</td>\n",
       "      <td>0</td>\n",
       "      <td>0</td>\n",
       "      <td>0</td>\n",
       "      <td>0</td>\n",
       "    </tr>\n",
       "    <tr>\n",
       "      <th>4</th>\n",
       "      <td>4</td>\n",
       "      <td>0</td>\n",
       "      <td>0</td>\n",
       "      <td>0</td>\n",
       "      <td>0</td>\n",
       "      <td>0</td>\n",
       "      <td>0</td>\n",
       "      <td>0</td>\n",
       "      <td>0</td>\n",
       "      <td>0</td>\n",
       "      <td>...</td>\n",
       "      <td>0</td>\n",
       "      <td>0</td>\n",
       "      <td>0</td>\n",
       "      <td>0</td>\n",
       "      <td>0</td>\n",
       "      <td>0</td>\n",
       "      <td>0</td>\n",
       "      <td>0</td>\n",
       "      <td>0</td>\n",
       "      <td>0</td>\n",
       "    </tr>\n",
       "  </tbody>\n",
       "</table>\n",
       "<p>5 rows × 1025 columns</p>\n",
       "</div>"
      ],
      "text/plain": [
       "   ID  pix1  pix2  pix3  pix4  pix5  pix6  pix7  pix8  pix9  ...  pix1015  \\\n",
       "0   0     0     0     0     0     0     0     0     0     0  ...        0   \n",
       "1   1     0     0     0     0     0     0     0     0     0  ...        0   \n",
       "2   2     2     2     2     2     2     2     2     2     2  ...        2   \n",
       "3   3     0     0     0     0     0     0     0     0     0  ...        0   \n",
       "4   4     0     0     0     0     0     0     0     0     0  ...        0   \n",
       "\n",
       "   pix1016  pix1017  pix1018  pix1019  pix1020  pix1021  pix1022  pix1023  \\\n",
       "0        0        0        0        0        0        0        0        0   \n",
       "1        0        0        0        0        0        0        0        0   \n",
       "2        2        2        2        2        2        2        2        2   \n",
       "3        0        0        0        0        0        0        0        0   \n",
       "4        0        0        0        0        0        0        0        0   \n",
       "\n",
       "   pix1024  \n",
       "0        0  \n",
       "1        0  \n",
       "2        2  \n",
       "3        0  \n",
       "4        0  \n",
       "\n",
       "[5 rows x 1025 columns]"
      ]
     },
     "execution_count": 136,
     "metadata": {},
     "output_type": "execute_result"
    }
   ],
   "source": [
    "eval_data = pd.read_csv(\"evaluate.csv\")\n",
    "eval_data.head()"
   ]
  },
  {
   "cell_type": "code",
   "execution_count": 137,
   "metadata": {},
   "outputs": [
    {
     "name": "stderr",
     "output_type": "stream",
     "text": [
      "C:\\Users\\alesp\\AppData\\Local\\Temp\\ipykernel_8448\\4090906945.py:1: DeprecationWarning: In a future version, `df.iloc[:, i] = newvals` will attempt to set the values inplace instead of always setting a new array. To retain the old behavior, use either `df[df.columns[i]] = newvals` or, if columns are non-unique, `df.isetitem(i, newvals)`\n",
      "  eval_data.iloc[:,:] = eval_data.iloc[:,:].apply(normalize, axis=1)\n"
     ]
    }
   ],
   "source": [
    "eval_data.iloc[:,:] = eval_data.iloc[:,:].apply(normalize, axis=1)"
   ]
  },
  {
   "cell_type": "code",
   "execution_count": 138,
   "metadata": {},
   "outputs": [],
   "source": [
    "source_images2d = np.reshape(eval_data.iloc[:, :1024].to_numpy(), (len(eval_data), 1, 32, 32))"
   ]
  },
  {
   "cell_type": "code",
   "execution_count": 143,
   "metadata": {},
   "outputs": [],
   "source": [
    "dataset_eva_2d_norm = torch.tensor(source_images2d, dtype = torch.float)"
   ]
  },
  {
   "cell_type": "code",
   "execution_count": 153,
   "metadata": {},
   "outputs": [
    {
     "data": {
      "text/plain": [
       "tensor([3, 3, 0,  ..., 6, 6, 6])"
      ]
     },
     "execution_count": 153,
     "metadata": {},
     "output_type": "execute_result"
    }
   ],
   "source": [
    "model.eval()\n",
    "with torch.no_grad():\n",
    "    y = model(dataset_eva_2d_norm)\n",
    "y.argmax(1)"
   ]
  },
  {
   "cell_type": "code",
   "execution_count": 154,
   "metadata": {},
   "outputs": [],
   "source": [
    "result = y.argmax(1)\n",
    "result = result.numpy()"
   ]
  },
  {
   "cell_type": "code",
   "execution_count": 155,
   "metadata": {},
   "outputs": [
    {
     "data": {
      "text/html": [
       "<div>\n",
       "<style scoped>\n",
       "    .dataframe tbody tr th:only-of-type {\n",
       "        vertical-align: middle;\n",
       "    }\n",
       "\n",
       "    .dataframe tbody tr th {\n",
       "        vertical-align: top;\n",
       "    }\n",
       "\n",
       "    .dataframe thead th {\n",
       "        text-align: right;\n",
       "    }\n",
       "</style>\n",
       "<table border=\"1\" class=\"dataframe\">\n",
       "  <thead>\n",
       "    <tr style=\"text-align: right;\">\n",
       "      <th></th>\n",
       "      <th>0</th>\n",
       "    </tr>\n",
       "  </thead>\n",
       "  <tbody>\n",
       "    <tr>\n",
       "      <th>0</th>\n",
       "      <td>3</td>\n",
       "    </tr>\n",
       "    <tr>\n",
       "      <th>1</th>\n",
       "      <td>3</td>\n",
       "    </tr>\n",
       "    <tr>\n",
       "      <th>2</th>\n",
       "      <td>0</td>\n",
       "    </tr>\n",
       "    <tr>\n",
       "      <th>3</th>\n",
       "      <td>0</td>\n",
       "    </tr>\n",
       "    <tr>\n",
       "      <th>4</th>\n",
       "      <td>5</td>\n",
       "    </tr>\n",
       "  </tbody>\n",
       "</table>\n",
       "</div>"
      ],
      "text/plain": [
       "   0\n",
       "0  3\n",
       "1  3\n",
       "2  0\n",
       "3  0\n",
       "4  5"
      ]
     },
     "execution_count": 155,
     "metadata": {},
     "output_type": "execute_result"
    }
   ],
   "source": [
    "results = pd.DataFrame(data=result)\n",
    "results.head()"
   ]
  },
  {
   "cell_type": "code",
   "execution_count": 156,
   "metadata": {},
   "outputs": [
    {
     "data": {
      "text/plain": [
       "14000"
      ]
     },
     "execution_count": 156,
     "metadata": {},
     "output_type": "execute_result"
    }
   ],
   "source": [
    "len(results)"
   ]
  },
  {
   "cell_type": "code",
   "execution_count": 159,
   "metadata": {},
   "outputs": [],
   "source": [
    "results.columns = [\"label\"]"
   ]
  },
  {
   "cell_type": "code",
   "execution_count": 160,
   "metadata": {},
   "outputs": [
    {
     "data": {
      "text/html": [
       "<div>\n",
       "<style scoped>\n",
       "    .dataframe tbody tr th:only-of-type {\n",
       "        vertical-align: middle;\n",
       "    }\n",
       "\n",
       "    .dataframe tbody tr th {\n",
       "        vertical-align: top;\n",
       "    }\n",
       "\n",
       "    .dataframe thead th {\n",
       "        text-align: right;\n",
       "    }\n",
       "</style>\n",
       "<table border=\"1\" class=\"dataframe\">\n",
       "  <thead>\n",
       "    <tr style=\"text-align: right;\">\n",
       "      <th></th>\n",
       "      <th>label</th>\n",
       "    </tr>\n",
       "  </thead>\n",
       "  <tbody>\n",
       "    <tr>\n",
       "      <th>0</th>\n",
       "      <td>3</td>\n",
       "    </tr>\n",
       "    <tr>\n",
       "      <th>1</th>\n",
       "      <td>3</td>\n",
       "    </tr>\n",
       "    <tr>\n",
       "      <th>2</th>\n",
       "      <td>0</td>\n",
       "    </tr>\n",
       "    <tr>\n",
       "      <th>3</th>\n",
       "      <td>0</td>\n",
       "    </tr>\n",
       "    <tr>\n",
       "      <th>4</th>\n",
       "      <td>5</td>\n",
       "    </tr>\n",
       "    <tr>\n",
       "      <th>...</th>\n",
       "      <td>...</td>\n",
       "    </tr>\n",
       "    <tr>\n",
       "      <th>13995</th>\n",
       "      <td>6</td>\n",
       "    </tr>\n",
       "    <tr>\n",
       "      <th>13996</th>\n",
       "      <td>6</td>\n",
       "    </tr>\n",
       "    <tr>\n",
       "      <th>13997</th>\n",
       "      <td>6</td>\n",
       "    </tr>\n",
       "    <tr>\n",
       "      <th>13998</th>\n",
       "      <td>6</td>\n",
       "    </tr>\n",
       "    <tr>\n",
       "      <th>13999</th>\n",
       "      <td>6</td>\n",
       "    </tr>\n",
       "  </tbody>\n",
       "</table>\n",
       "<p>14000 rows × 1 columns</p>\n",
       "</div>"
      ],
      "text/plain": [
       "       label\n",
       "0          3\n",
       "1          3\n",
       "2          0\n",
       "3          0\n",
       "4          5\n",
       "...      ...\n",
       "13995      6\n",
       "13996      6\n",
       "13997      6\n",
       "13998      6\n",
       "13999      6\n",
       "\n",
       "[14000 rows x 1 columns]"
      ]
     },
     "execution_count": 160,
     "metadata": {},
     "output_type": "execute_result"
    }
   ],
   "source": [
    "results"
   ]
  },
  {
   "cell_type": "code",
   "execution_count": 162,
   "metadata": {},
   "outputs": [
    {
     "data": {
      "text/html": [
       "<div>\n",
       "<style scoped>\n",
       "    .dataframe tbody tr th:only-of-type {\n",
       "        vertical-align: middle;\n",
       "    }\n",
       "\n",
       "    .dataframe tbody tr th {\n",
       "        vertical-align: top;\n",
       "    }\n",
       "\n",
       "    .dataframe thead th {\n",
       "        text-align: right;\n",
       "    }\n",
       "</style>\n",
       "<table border=\"1\" class=\"dataframe\">\n",
       "  <thead>\n",
       "    <tr style=\"text-align: right;\">\n",
       "      <th></th>\n",
       "      <th>label</th>\n",
       "    </tr>\n",
       "    <tr>\n",
       "      <th>ID</th>\n",
       "      <th></th>\n",
       "    </tr>\n",
       "  </thead>\n",
       "  <tbody>\n",
       "    <tr>\n",
       "      <th>0</th>\n",
       "      <td>3</td>\n",
       "    </tr>\n",
       "    <tr>\n",
       "      <th>1</th>\n",
       "      <td>3</td>\n",
       "    </tr>\n",
       "    <tr>\n",
       "      <th>2</th>\n",
       "      <td>0</td>\n",
       "    </tr>\n",
       "    <tr>\n",
       "      <th>3</th>\n",
       "      <td>0</td>\n",
       "    </tr>\n",
       "    <tr>\n",
       "      <th>4</th>\n",
       "      <td>5</td>\n",
       "    </tr>\n",
       "    <tr>\n",
       "      <th>...</th>\n",
       "      <td>...</td>\n",
       "    </tr>\n",
       "    <tr>\n",
       "      <th>13995</th>\n",
       "      <td>6</td>\n",
       "    </tr>\n",
       "    <tr>\n",
       "      <th>13996</th>\n",
       "      <td>6</td>\n",
       "    </tr>\n",
       "    <tr>\n",
       "      <th>13997</th>\n",
       "      <td>6</td>\n",
       "    </tr>\n",
       "    <tr>\n",
       "      <th>13998</th>\n",
       "      <td>6</td>\n",
       "    </tr>\n",
       "    <tr>\n",
       "      <th>13999</th>\n",
       "      <td>6</td>\n",
       "    </tr>\n",
       "  </tbody>\n",
       "</table>\n",
       "<p>14000 rows × 1 columns</p>\n",
       "</div>"
      ],
      "text/plain": [
       "       label\n",
       "ID          \n",
       "0          3\n",
       "1          3\n",
       "2          0\n",
       "3          0\n",
       "4          5\n",
       "...      ...\n",
       "13995      6\n",
       "13996      6\n",
       "13997      6\n",
       "13998      6\n",
       "13999      6\n",
       "\n",
       "[14000 rows x 1 columns]"
      ]
     },
     "execution_count": 162,
     "metadata": {},
     "output_type": "execute_result"
    }
   ],
   "source": [
    "results.index.name = 'ID'\n",
    "results"
   ]
  },
  {
   "cell_type": "code",
   "execution_count": 163,
   "metadata": {},
   "outputs": [],
   "source": [
    "results.to_csv(\"results.csv\")"
   ]
  },
  {
   "cell_type": "code",
   "execution_count": null,
   "metadata": {},
   "outputs": [],
   "source": []
  }
 ],
 "metadata": {
  "kernelspec": {
   "display_name": "Python 3 (ipykernel)",
   "language": "python",
   "name": "python3"
  },
  "language_info": {
   "codemirror_mode": {
    "name": "ipython",
    "version": 3
   },
   "file_extension": ".py",
   "mimetype": "text/x-python",
   "name": "python",
   "nbconvert_exporter": "python",
   "pygments_lexer": "ipython3",
   "version": "3.10.11"
  }
 },
 "nbformat": 4,
 "nbformat_minor": 4
}
